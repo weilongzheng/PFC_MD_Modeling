{
 "cells": [
  {
   "cell_type": "markdown",
   "metadata": {
    "colab_type": "text",
    "id": "view-in-github"
   },
   "source": [
    "<a href=\"https://colab.research.google.com/github/gyyang/neurogym/blob/master/examples/demo.ipynb\" target=\"_parent\"><img src=\"https://colab.research.google.com/assets/colab-badge.svg\" alt=\"Open In Colab\"/></a>"
   ]
  },
  {
   "cell_type": "markdown",
   "metadata": {
    "colab_type": "text",
    "heading_collapsed": true,
    "id": "4zW6CU8F69Zp"
   },
   "source": [
    "## Exploring NeuroGym tasks"
   ]
  },
  {
   "cell_type": "markdown",
   "metadata": {
    "colab_type": "text",
    "hidden": true,
    "id": "xIE7qx_a7D0e"
   },
   "source": [
    "NeuroGym is a comprehensive toolkit that allows training any network model on many established neuroscience tasks using Reinforcement Learning techniques. It includes working memory tasks, value-based decision tasks and context-dependent perceptual categorization tasks.\n",
    "\n",
    "In this notebook we first show how to install the relevant toolbox. \n",
    "\n",
    "We then show how to access the available tasks and their relevant information.\n",
    "\n",
    "Finally we train an LSTM network on the Random Dots Motion task using the A2C algorithm [Mnih et al. 2016](https://arxiv.org/abs/1602.01783) implemented in the [stable-baselines](https://github.com/hill-a/stable-baselines) toolbox, and plot the results.\n",
    "\n",
    "You can easily change the code to train a network on any other available task or using a different algorithm (e.g. ACER, PPO2).\n"
   ]
  },
  {
   "cell_type": "markdown",
   "metadata": {
    "colab_type": "text",
    "id": "k3YKMoHkR2xL"
   },
   "source": [
    "### Installation on google colab"
   ]
  },
  {
   "cell_type": "code",
   "execution_count": null,
   "metadata": {
    "colab": {
     "base_uri": "https://localhost:8080/",
     "height": 1000
    },
    "colab_type": "code",
    "hidden": true,
    "id": "Mp-K8wKGtBoE",
    "outputId": "9e2cefb9-2b67-4a3b-e838-5d60749b4b6f"
   },
   "outputs": [],
   "source": [
    "%tensorflow_version 1.x\n",
    "# Install gym\n",
    "! pip install gym\n",
    "# Install neurogym\n",
    "! git clone https://github.com/gyyang/neurogym.git\n",
    "%cd neurogym/\n",
    "! pip install -e .\n",
    "# Install stable-baselines\n",
    "! pip install --upgrade stable-baselines"
   ]
  },
  {
   "cell_type": "markdown",
   "metadata": {
    "colab_type": "text",
    "id": "ZllQKETBVXNM"
   },
   "source": [
    "### Explore tasks"
   ]
  },
  {
   "cell_type": "code",
   "execution_count": null,
   "metadata": {
    "colab": {
     "base_uri": "https://localhost:8080/",
     "height": 459
    },
    "colab_type": "code",
    "id": "CehSnXXBVMsh",
    "outputId": "06b18bf8-bfaa-4147-bf82-434665284741"
   },
   "outputs": [],
   "source": [
    "import warnings\n",
    "import gym\n",
    "import neurogym as ngym\n",
    "from neurogym.utils import info, plotting\n",
    "# warnings.filterwarnings('ignore')\n",
    "info.all_tasks()"
   ]
  },
  {
   "cell_type": "markdown",
   "metadata": {
    "colab_type": "text",
    "id": "jzF5leN1R2xU"
   },
   "source": [
    "### Visualize a single task"
   ]
  },
  {
   "cell_type": "code",
   "execution_count": null,
   "metadata": {
    "colab": {
     "base_uri": "https://localhost:8080/",
     "height": 1000
    },
    "colab_type": "code",
    "id": "RaH9CcJdHY5G",
    "outputId": "b55de485-603f-4f73-af74-8cfecdcd3301"
   },
   "outputs": [],
   "source": [
    "task = 'PerceptualDecisionMaking-v0'\n",
    "env = gym.make(task);\n",
    "print(env)\n",
    "plotting.plot_env(env, num_steps=300, def_act=0, ob_traces=['Fixation cue', 'Stim1', 'Stim2'], fig_kwargs={'figsize': (12, 12)});"
   ]
  },
  {
   "cell_type": "markdown",
   "metadata": {
    "colab_type": "text",
    "id": "h5BdRE6vVjeS"
   },
   "source": [
    "### Explore wrappers"
   ]
  },
  {
   "cell_type": "code",
   "execution_count": null,
   "metadata": {
    "colab": {
     "base_uri": "https://localhost:8080/",
     "height": 204
    },
    "colab_type": "code",
    "id": "OqyGbBGRVlhK",
    "outputId": "27a2e15b-5414-4a08-c6db-f66a7fc78b95"
   },
   "outputs": [],
   "source": [
    "info.all_wrappers()"
   ]
  },
  {
   "cell_type": "code",
   "execution_count": null,
   "metadata": {
    "colab": {
     "base_uri": "https://localhost:8080/",
     "height": 1000
    },
    "colab_type": "code",
    "id": "k92VZ01IN5bs",
    "outputId": "391cb8e3-36d6-47e7-e71e-166207552475"
   },
   "outputs": [],
   "source": [
    "info.info_wrapper('TrialHistory-v0', show_code=True);"
   ]
  },
  {
   "cell_type": "markdown",
   "metadata": {
    "colab_type": "text",
    "id": "OCFMPbzX38Wj"
   },
   "source": [
    "### Train a network"
   ]
  },
  {
   "cell_type": "code",
   "execution_count": null,
   "metadata": {
    "code_folding": [],
    "colab": {
     "base_uri": "https://localhost:8080/",
     "height": 853
    },
    "colab_type": "code",
    "id": "jAxTPbzL38Wl",
    "outputId": "3405476e-8c1b-4aa6-a45a-4206872cb732"
   },
   "outputs": [],
   "source": [
    "import warnings\n",
    "import numpy as np\n",
    "from neurogym.wrappers import trial_hist, monitor\n",
    "from stable_baselines.common.policies import LstmPolicy\n",
    "from stable_baselines.common.vec_env import DummyVecEnv\n",
    "from stable_baselines import A2C  # ACER, PPO2\n",
    "warnings.filterwarnings('default')\n",
    "# task paremters\n",
    "task = 'PerceptualDecisionMaking-v0'\n",
    "timing = {'fixation': ('constant', 300),\n",
    "          'stimulus': ('constant', 700),\n",
    "          'decision': ('constant', 300)}\n",
    "kwargs = {'dt': 100, 'timing': timing, 'stim_scale': 2}\n",
    "# wrapper parameters\n",
    "n_ch = 2\n",
    "p = 0.8\n",
    "num_blocks = 2\n",
    "block_1 = np.array([[p, 1-p], [1-p, p]])  # repeating block\n",
    "block_2 = np.array([[1-p, p], [p, 1-p]])  # alternating block\n",
    "probs = np.empty((num_blocks, n_ch, n_ch))\n",
    "probs[0, :, :] = block_1\n",
    "probs[1, :, :] = block_2\n",
    "\n",
    "block_dur = 50\n",
    "\n",
    "# build task\n",
    "env = gym.make(task, **kwargs)\n",
    "# Apply the wrapper\n",
    "env = trial_hist.TrialHistory(env, probs=probs, block_dur=block_dur)\n",
    "env = monitor.Monitor(env, folder='content/tests/', sv_per=10000, verbose=1, sv_fig=True, num_stps_sv_fig=100)\n",
    "# the env is now wrapped automatically when passing it to the constructor\n",
    "env = DummyVecEnv([lambda: env])\n",
    "model = A2C(LstmPolicy, env, verbose=1, policy_kwargs={'feature_extraction':\"mlp\"})\n",
    "model.learn(total_timesteps=500000, log_interval=100000)\n",
    "env.close()"
   ]
  },
  {
   "cell_type": "markdown",
   "metadata": {
    "colab_type": "text",
    "id": "svUQlptJAVv9"
   },
   "source": [
    "### Visualize results"
   ]
  },
  {
   "cell_type": "code",
   "execution_count": null,
   "metadata": {
    "colab": {
     "base_uri": "https://localhost:8080/",
     "height": 907
    },
    "colab_type": "code",
    "id": "qPrh-kiI8rbB",
    "outputId": "e0e68023-06fd-4410-9607-313efddf04c9"
   },
   "outputs": [],
   "source": [
    "import numpy as np\n",
    "import matplotlib.pyplot as plt\n",
    "# Create task\n",
    "env = gym.make(task, **kwargs)\n",
    "# Apply the wrapper\n",
    "env = trial_hist.TrialHistory(env, probs=probs, block_dur=block_dur)\n",
    "env = DummyVecEnv([lambda: env])\n",
    "plotting.plot_env(env, num_steps=50, def_act=0, ob_traces=['Fixation cue', 'Stim1', 'Stim2'], fig_kwargs={'figsize': (12, 12)}, model=model);"
   ]
  }
 ],
 "metadata": {
  "accelerator": "GPU",
  "colab": {
   "collapsed_sections": [],
   "include_colab_link": true,
   "name": "example_neurogym_rl.ipynb",
   "provenance": []
  },
  "hide_input": false,
  "kernelspec": {
   "display_name": "Python 3",
   "language": "python",
   "name": "python3"
  },
  "language_info": {
   "codemirror_mode": {
    "name": "ipython",
    "version": 3
   },
   "file_extension": ".py",
   "mimetype": "text/x-python",
   "name": "python",
   "nbconvert_exporter": "python",
   "pygments_lexer": "ipython3",
   "version": "3.7.9"
  },
  "toc": {
   "base_numbering": 1,
   "nav_menu": {},
   "number_sections": true,
   "sideBar": true,
   "skip_h1_title": false,
   "title_cell": "Table of Contents",
   "title_sidebar": "Contents",
   "toc_cell": false,
   "toc_position": {},
   "toc_section_display": true,
   "toc_window_display": false
  },
  "varInspector": {
   "cols": {
    "lenName": 16,
    "lenType": 16,
    "lenVar": 40
   },
   "kernels_config": {
    "python": {
     "delete_cmd_postfix": "",
     "delete_cmd_prefix": "del ",
     "library": "var_list.py",
     "varRefreshCmd": "print(var_dic_list())"
    },
    "r": {
     "delete_cmd_postfix": ") ",
     "delete_cmd_prefix": "rm(",
     "library": "var_list.r",
     "varRefreshCmd": "cat(var_dic_list()) "
    }
   },
   "types_to_exclude": [
    "module",
    "function",
    "builtin_function_or_method",
    "instance",
    "_Feature"
   ],
   "window_display": false
  }
 },
 "nbformat": 4,
 "nbformat_minor": 1
}