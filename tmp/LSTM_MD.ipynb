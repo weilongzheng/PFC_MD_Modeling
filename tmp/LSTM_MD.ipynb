{
 "metadata": {
  "language_info": {
   "codemirror_mode": {
    "name": "ipython",
    "version": 3
   },
   "file_extension": ".py",
   "mimetype": "text/x-python",
   "name": "python",
   "nbconvert_exporter": "python",
   "pygments_lexer": "ipython3",
   "version": "3.7.9-final"
  },
  "orig_nbformat": 2,
  "kernelspec": {
   "name": "python3",
   "display_name": "Python 3.7.9 64-bit ('deeplearning': conda)",
   "metadata": {
    "interpreter": {
     "hash": "8d1b0cb2583ed9fdcdbc8ee19dfc4bbbc916785483064bd7ff39d2deaff2ffb4"
    }
   }
  }
 },
 "nbformat": 4,
 "nbformat_minor": 2,
 "cells": [
  {
   "source": [
    "# RihkyeTask + LSTM_MD model"
   ],
   "cell_type": "markdown",
   "metadata": {}
  },
  {
   "cell_type": "code",
   "execution_count": 17,
   "metadata": {},
   "outputs": [],
   "source": [
    "import numpy as np\n",
    "\n",
    "import torch\n",
    "import torch.nn as nn\n",
    "import torch.nn.functional as F\n",
    "\n",
    "from task import RihkyeTask"
   ]
  },
  {
   "source": [
    "## Dataset"
   ],
   "cell_type": "markdown",
   "metadata": {}
  },
  {
   "cell_type": "code",
   "execution_count": 18,
   "metadata": {},
   "outputs": [],
   "source": [
    "num_cueingcontext = 2\n",
    "num_cue = 2\n",
    "num_rule = 2\n",
    "rule = [0, 1, 0, 1]\n",
    "blocklen = [500, 500, 200]\n",
    "block_cueingcontext = [0, 1, 0]\n",
    "tsteps = 200\n",
    "cuesteps = 100\n",
    "batch_size = 10\n",
    "\n",
    "dataset = RihkyeTask(num_cueingcontext=num_cueingcontext, num_cue=num_cue, num_rule=num_rule, rule=rule, blocklen=blocklen, \\\n",
    "block_cueingcontext=block_cueingcontext, tsteps=tsteps, cuesteps=cuesteps, batch_size=batch_size)"
   ]
  },
  {
   "source": [
    "## Model"
   ],
   "cell_type": "markdown",
   "metadata": {}
  },
  {
   "cell_type": "code",
   "execution_count": 19,
   "metadata": {},
   "outputs": [],
   "source": [
    "class LSTM_MD(nn.Module):\n",
    "    \"\"\"LSTM with a MD layer\n",
    "    Parameters:\n",
    "    input_size: int, LSTM input size\n",
    "    hidden_size: int, LSTM hidden size\n",
    "    output_size: int, output layer size\n",
    "    num_layers: int, number of LSTM layers\n",
    "    \"\"\"\n",
    "\n",
    "    def __init__(self, input_size, hidden_size, output_size, num_layers):\n",
    "        super().__init__()\n",
    "\n",
    "        self.lstm = nn.LSTM(input_size, hidden_size, num_layers)\n",
    "        self.fc = nn.Linear(hidden_size, output_size)\n",
    "\n",
    "    def forward(self, x):\n",
    "        rnn_output, _ = self.lstm(x)\n",
    "        out = self.fc(rnn_output)\n",
    "        return out"
   ]
  },
  {
   "source": [
    "## Training"
   ],
   "cell_type": "markdown",
   "metadata": {}
  },
  {
   "cell_type": "code",
   "execution_count": 20,
   "metadata": {},
   "outputs": [
    {
     "output_type": "stream",
     "name": "stdout",
     "text": [
      "Total step: 120\n",
      "Training sample index: 0-10\n",
      "loss: 0.41148 \n",
      "\n",
      "Total step: 120\n",
      "Training sample index: 10-20\n",
      "loss: 0.27202 \n",
      "\n",
      "Total step: 120\n",
      "Training sample index: 20-30\n",
      "loss: 0.15606 \n",
      "\n",
      "Total step: 120\n",
      "Training sample index: 30-40\n",
      "loss: 0.05314 \n",
      "\n",
      "Total step: 120\n",
      "Training sample index: 40-50\n",
      "loss: 0.03295 \n",
      "\n",
      "Total step: 120\n",
      "Training sample index: 50-60\n",
      "loss: 0.26729 \n",
      "\n",
      "Total step: 120\n",
      "Training sample index: 60-70\n",
      "loss: 0.16601 \n",
      "\n",
      "Total step: 120\n",
      "Training sample index: 70-80\n",
      "loss: 0.05359 \n",
      "\n",
      "Total step: 120\n",
      "Training sample index: 80-90\n",
      "loss: 0.03323 \n",
      "\n",
      "Total step: 120\n",
      "Training sample index: 90-100\n",
      "loss: 0.02649 \n",
      "\n",
      "Total step: 120\n",
      "Training sample index: 100-110\n",
      "loss: 0.02525 \n",
      "\n",
      "Total step: 120\n",
      "Training sample index: 110-120\n",
      "loss: 0.02133 \n",
      "\n",
      "Finished Training\n"
     ]
    }
   ],
   "source": [
    "import time\n",
    "\n",
    "# Model settings\n",
    "input_size = 4 # 4 cues\n",
    "hidden_size = 200\n",
    "output_size = 2 # 2 rules\n",
    "num_layers = 1\n",
    "\n",
    "model = LSTM_MD(input_size=input_size, hidden_size=hidden_size, output_size=output_size, num_layers=num_layers)\n",
    "\n",
    "criterion = nn.MSELoss()\n",
    "optimizer = torch.optim.Adam(model.parameters(), lr=1e-3)\n",
    "\n",
    "\n",
    "total_step = sum(blocklen)//batch_size\n",
    "print_step = 10\n",
    "running_loss = 0.0\n",
    "model_name = 'model-' + str(int(time.time()))\n",
    "savemodel = False\n",
    "\n",
    "\n",
    "for i in range(total_step):\n",
    "    inputs, labels = dataset()\n",
    "\n",
    "    inputs = torch.from_numpy(inputs).type(torch.float)\n",
    "    labels = torch.from_numpy(labels).type(torch.float)\n",
    "\n",
    "    # zero the parameter gradients\n",
    "    optimizer.zero_grad()\n",
    "\n",
    "    # forward + backward + optimize\n",
    "    outputs = model(inputs)\n",
    "\n",
    "    loss = criterion(outputs, labels)\n",
    "    loss.backward()\n",
    "    torch.nn.utils.clip_grad_norm_(model.parameters(), 1.0) # normalization\n",
    "    optimizer.step()\n",
    "\n",
    "\n",
    "    # print statistics\n",
    "    running_loss += loss.item()\n",
    "    if i % print_step == (print_step - 1):\n",
    "        print('Total step: {:d}'.format(total_step))\n",
    "        print('Training sample index: {:d}-{:d}'.format(i+1-print_step, i+1))\n",
    "\n",
    "        # running loss\n",
    "        print('loss: {:0.5f}'.format(running_loss / print_step), '\\n')\n",
    "        running_loss = 0.0\n",
    "\n",
    "        if savemodel:\n",
    "            # save model every print_step\n",
    "            fname = os.path.join('models', model_name + '.pt')\n",
    "            torch.save(model.state_dict(), fname)\n",
    "\n",
    "            # save info of the model\n",
    "            fpath = os.path.join('models', model_name + '.txt')\n",
    "            with open(fpath, 'w') as f:\n",
    "                f.write('input_size = ' + str(input_size) + '\\n')\n",
    "                f.write('hidden_size = ' + str(hidden_size) + '\\n')\n",
    "                f.write('output_size = ' + str(output_size) + '\\n')\n",
    "                f.write('num_layers = ' + str(num_layers) + '\\n')\n",
    "\n",
    "\n",
    "print('Finished Training')"
   ]
  }
 ]
}