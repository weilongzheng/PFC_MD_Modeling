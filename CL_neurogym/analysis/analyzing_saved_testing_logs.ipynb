{
 "cells": [
  {
   "cell_type": "code",
   "execution_count": null,
   "id": "f488abfa",
   "metadata": {},
   "outputs": [],
   "source": []
  },
  {
   "cell_type": "markdown",
   "id": "bea7d302",
   "metadata": {},
   "source": [
    "Analyzing serial neurogym results"
   ]
  },
  {
   "cell_type": "code",
   "execution_count": 1,
   "id": "51774677",
   "metadata": {},
   "outputs": [
    {
     "name": "stdout",
     "output_type": "stream",
     "text": [
      "gates_search_1_0.1_same_rnn_gates_tc\n"
     ]
    }
   ],
   "source": [
    "#!/usr/bin/env python\n",
    "# coding: utf-8\n",
    "# system\n",
    "import os\n",
    "import sys\n",
    "root = os.getcwd()\n",
    "sys.path.append(root)\n",
    "sys.path.append('..')\n",
    "from pathlib import Path\n",
    "import json\n",
    "# tools\n",
    "import time\n",
    "import itertools\n",
    "from collections import defaultdict\n",
    "# computation\n",
    "import math\n",
    "import numpy as np\n",
    "import random\n",
    "import pandas as pd\n",
    "import torch\n",
    "import torch.nn as nn\n",
    "from torch.nn import init\n",
    "from torch.nn import functional as F\n",
    "# tasks\n",
    "import gym\n",
    "import neurogym as ngym\n",
    "from neurogym.wrappers import ScheduleEnvs\n",
    "from neurogym.utils.scheduler import RandomSchedule\n",
    "# models\n",
    "# from model_dev import RNN_MD\n",
    "# from model_dev import serial_RNN_MD as RNN_MD\n",
    "# from utils import get_full_performance\n",
    "# visualization\n",
    "import matplotlib as mpl\n",
    "mpl.rcParams['axes.spines.left'] = True\n",
    "mpl.rcParams['axes.spines.right'] = False\n",
    "mpl.rcParams['axes.spines.top'] = False\n",
    "mpl.rcParams['axes.spines.bottom'] = True\n",
    "# mpl.rcParams['pdf.fonttype'] = 42\n",
    "# mpl.rcParams['ps.fonttype'] = 42\n",
    "import matplotlib.pyplot as plt\n",
    "from tqdm import tqdm, trange\n",
    "\n",
    "class Args():\n",
    "    def __init__(self):\n",
    "        self.exp_name = 'gates_search'\n",
    "        self.var1 = 1\n",
    "        self.var2 = 0.1\n",
    "        self.same_rnn = True\n",
    "        self.use_gates = True\n",
    "        self.train_to_criterion = True\n",
    "        self.num_of_tasks = 15\n",
    "args = Args() \n",
    "\n",
    "exp_name = args.exp_name\n",
    "os.makedirs('./files/'+exp_name, exist_ok=True)\n",
    "\n",
    "###--------------------------Training configs--------------------------###\n",
    "\n",
    "# set device\n",
    "device = 'cuda' # always CPU\n",
    "# Config\n",
    "config = {\n",
    "    # exp:\n",
    "    'exp_name': exp_name,\n",
    "    # envs\n",
    "    'tasks': ['yang19.dlygo-v0',\n",
    "            'yang19.rtgo-v0',\n",
    "            'yang19.dlyanti-v0',\n",
    "            'yang19.go-v0',\n",
    "            'yang19.dms-v0',\n",
    "            'yang19.dnms-v0',\n",
    "            'yang19.dmc-v0',\n",
    "            'yang19.dnmc-v0',\n",
    "            'yang19.dm1-v0',\n",
    "            'yang19.dm2-v0',\n",
    "            'yang19.ctxdm1-v0',\n",
    "            'yang19.ctxdm2-v0',\n",
    "            'yang19.multidm-v0',\n",
    "            'yang19.anti-v0',\n",
    "            'yang19.rtanti-v0'\n",
    "            ],\n",
    "    'env_kwargs': {'dt': 100},\n",
    "    'seq_len': 50,\n",
    "# Training\n",
    "    'trials_per_task' : 200000,\n",
    "    'batch_size' : 100,\n",
    "    'print_every_batches': 100,\n",
    "    'train_to_criterion': bool(args.train_to_criterion),\n",
    "    'device': device,\n",
    "# model\n",
    "    'use_lstm': False,\n",
    "    'same_rnn' : bool(args.same_rnn), \n",
    "    'use_gates': bool(args.use_gates), \n",
    "    'md_mean' : args.var1,\n",
    "    'md_range': args.var2, #0.1\n",
    "    'use_external_inputs_mask': False,\n",
    "    'input_size': 33,\n",
    "    'hidden_size': 256,\n",
    "    'sub_size': 128,\n",
    "    'output_size': 17,\n",
    "    'num_task': 2,\n",
    "    'MDeffect': False,\n",
    "    'md_size': 15,\n",
    "    'md_active_size': 5,\n",
    "    'md_dt': 0.001,\n",
    "# optimizer\n",
    "    'lr': 1e-4, # 1e-4 for CTRNN, 1e-3 for LSTM\n",
    "}\n",
    "config.update({'tasks': config['tasks'][:args.num_of_tasks]})\n",
    "config.update({'human_task_names': ['{:<6}'.format(tn[7:-3]) for tn in config['tasks']]})\n",
    "config.update({'md_size': len(config['tasks'])})\n",
    "\n",
    "exp_signature = config['exp_name'] +f'_{args.var1}_{args.var2}_'+\\\n",
    "    f'{\"same_rnn\" if config[\"same_rnn\"] else \"separate\"}_{\"gates\" if config[\"use_gates\"] else \"nogates\"}'+\\\n",
    "        f'_{\"tc\" if config[\"train_to_criterion\"] else \"nc\"}'\n",
    "print(exp_signature)\n",
    "\n",
    "task_seq = []\n",
    "# Add tasks gradually with rehearsal 1 2 1 2 3 1 2 3 4 ...\n",
    "task_sub_seqs = [[(i, config['tasks'][i]) for i in range(s)] for s in range(2, len(config['tasks']))] # interleave tasks and add one task at a time\n",
    "for sub_seq in task_sub_seqs: task_seq+=sub_seq\n",
    "\n",
    "# Just sequence the tasks serially\n",
    "simplified_task_seq = [(i, config['tasks'][i]) for i in range(len(config['tasks']))]\n",
    "task_seq = simplified_task_seq\n",
    "# print('Task seq to be learned: ', task_seq)\n"
   ]
  },
  {
   "cell_type": "code",
   "execution_count": 2,
   "id": "b806336b",
   "metadata": {},
   "outputs": [
    {
     "ename": "FileNotFoundError",
     "evalue": "[Errno 2] No such file or directory: './files/separate_rnns/testing_logs.npy'",
     "output_type": "error",
     "traceback": [
      "\u001b[0;31m---------------------------------------------------------------------------\u001b[0m",
      "\u001b[0;31mFileNotFoundError\u001b[0m                         Traceback (most recent call last)",
      "\u001b[0;32m/tmp/ipykernel_51658/324777839.py\u001b[0m in \u001b[0;36m<module>\u001b[0;34m\u001b[0m\n\u001b[1;32m      9\u001b[0m \u001b[0;31m# label = 'Same RNN'\u001b[0m\u001b[0;34m\u001b[0m\u001b[0;34m\u001b[0m\u001b[0;34m\u001b[0m\u001b[0m\n\u001b[1;32m     10\u001b[0m \u001b[0;34m\u001b[0m\u001b[0m\n\u001b[0;32m---> 11\u001b[0;31m \u001b[0mtesting_logs\u001b[0m \u001b[0;34m=\u001b[0m \u001b[0mnp\u001b[0m\u001b[0;34m.\u001b[0m\u001b[0mload\u001b[0m\u001b[0;34m(\u001b[0m \u001b[0mfile3\u001b[0m\u001b[0;34m,\u001b[0m \u001b[0mallow_pickle\u001b[0m\u001b[0;34m=\u001b[0m\u001b[0;32mTrue\u001b[0m\u001b[0;34m)\u001b[0m\u001b[0;34m\u001b[0m\u001b[0;34m\u001b[0m\u001b[0m\n\u001b[0m\u001b[1;32m     12\u001b[0m \u001b[0mlogs\u001b[0m \u001b[0;34m=\u001b[0m \u001b[0mtesting_logs\u001b[0m\u001b[0;34m\u001b[0m\u001b[0;34m\u001b[0m\u001b[0m\n\u001b[1;32m     13\u001b[0m \u001b[0;34m\u001b[0m\u001b[0m\n",
      "\u001b[0;32m/om2/user/ahummos/anaconda/lib/python3.8/site-packages/numpy/lib/npyio.py\u001b[0m in \u001b[0;36mload\u001b[0;34m(file, mmap_mode, allow_pickle, fix_imports, encoding)\u001b[0m\n\u001b[1;32m    415\u001b[0m             \u001b[0mown_fid\u001b[0m \u001b[0;34m=\u001b[0m \u001b[0;32mFalse\u001b[0m\u001b[0;34m\u001b[0m\u001b[0;34m\u001b[0m\u001b[0m\n\u001b[1;32m    416\u001b[0m         \u001b[0;32melse\u001b[0m\u001b[0;34m:\u001b[0m\u001b[0;34m\u001b[0m\u001b[0;34m\u001b[0m\u001b[0m\n\u001b[0;32m--> 417\u001b[0;31m             \u001b[0mfid\u001b[0m \u001b[0;34m=\u001b[0m \u001b[0mstack\u001b[0m\u001b[0;34m.\u001b[0m\u001b[0menter_context\u001b[0m\u001b[0;34m(\u001b[0m\u001b[0mopen\u001b[0m\u001b[0;34m(\u001b[0m\u001b[0mos_fspath\u001b[0m\u001b[0;34m(\u001b[0m\u001b[0mfile\u001b[0m\u001b[0;34m)\u001b[0m\u001b[0;34m,\u001b[0m \u001b[0;34m\"rb\"\u001b[0m\u001b[0;34m)\u001b[0m\u001b[0;34m)\u001b[0m\u001b[0;34m\u001b[0m\u001b[0;34m\u001b[0m\u001b[0m\n\u001b[0m\u001b[1;32m    418\u001b[0m             \u001b[0mown_fid\u001b[0m \u001b[0;34m=\u001b[0m \u001b[0;32mTrue\u001b[0m\u001b[0;34m\u001b[0m\u001b[0;34m\u001b[0m\u001b[0m\n\u001b[1;32m    419\u001b[0m \u001b[0;34m\u001b[0m\u001b[0m\n",
      "\u001b[0;31mFileNotFoundError\u001b[0m: [Errno 2] No such file or directory: './files/separate_rnns/testing_logs.npy'"
     ]
    }
   ],
   "source": [
    "# one fig\n",
    "file1= './files/gates_search/testing_logs_gates_search_1.0_0.1_same_rnn_gates_nc.npy'\n",
    "file2= './files/same_rnn/testing_logs.npy'\n",
    "file3= './files/separate_rnns/testing_logs.npy'\n",
    "\n",
    "# label1 = 'no gates'\n",
    "# label2 = 'with gates \\u03bc(1, 0.1)'\n",
    "label = 'Separate RNNs'\n",
    "# label = 'Same RNN'\n",
    "\n",
    "testing_logs = np.load( file3, allow_pickle=True)\n",
    "logs = testing_logs\n",
    "\n",
    "num_tasks = len(config['tasks'])\n",
    "title_label = 'Training tasks sequentially ---> \\n    ' + label \n",
    "plt.close('all')\n",
    "max_x = config['trials_per_task']//config['batch_size']\n",
    "fig, axes = plt.subplots(num_tasks,num_tasks, figsize=[9,7])\n",
    "for logi in range(num_tasks):\n",
    "    for li in range(num_tasks):\n",
    "        ax = axes[ li, logi ] # log i goes to the col direction -->\n",
    "        ax.set_ylim([-0.1,1.1])\n",
    "        ax.set_xlim([0, max_x])\n",
    "#         ax.axis('off')\n",
    "        log = testing_logs[logi]\n",
    "        ax.plot(log['stamps'], [test[li] for test in log['accuracy']], linewidth=2)\n",
    "        ax.plot(log['stamps'], np.ones_like(log['stamps'])*0.5, ':', color='grey', linewidth=0.5)\n",
    "        if li == 0: ax.set_title(config['human_task_names'][logi])\n",
    "        if logi == 0: ax.set_ylabel(config['human_task_names'][li])\n",
    "        ax.set_yticklabels([]) \n",
    "        ax.set_xticklabels([])\n",
    "        if logi== li:\n",
    "            ax.axvspan(*ax.get_xlim(), facecolor='grey', alpha=0.2)\n",
    "        if li == num_tasks-1 and logi in [num_tasks//2 - 4, num_tasks//2, num_tasks//2 + 4] :\n",
    "            ax.set_xlabel('batch #')\n",
    "axes[num_tasks-1, num_tasks//2-2].text(-8., -2.5, title_label, fontsize=12)     \n",
    "# exp_parameters = f'Exp parameters: {config[\"exp_name\"]}\\nRNN: {\"same\" if config[\"same_rnn\"] else \"separate\"}\\n\\\n",
    "#       mul_gate: {\"True\" if config[\"use_gates\"] else \"False\"}\\\n",
    "#           {exp_signature}'\n",
    "# axes[num_tasks-1, 0].text(-7., -2.2, exp_parameters, fontsize=7)\n",
    "# plt.show(fig)\n",
    "plt.savefig('./files/'+label+'_all_logs.png', dpi=300)\n"
   ]
  },
  {
   "cell_type": "code",
   "execution_count": null,
   "id": "fbefaef8",
   "metadata": {},
   "outputs": [],
   "source": [
    "import os\n",
    "os.getcwd()"
   ]
  },
  {
   "cell_type": "code",
   "execution_count": 28,
   "id": "46421643",
   "metadata": {},
   "outputs": [],
   "source": [
    "\n",
    "file1= './files/gates_search/testing_logs_gates_search_1.0_0.1_same_rnn_gates_nc.npy'\n",
    "file2= './files/same_rnn/testing_logs.npy'\n",
    "file3= './files/separate_rnns/testing_logs.npy'\n",
    "\n",
    "file1 = './../files/search_gates_ones/testing_logs_search_gates_ones_0.0_0.5_same_rnn_gates_nc.npy'\n",
    "# file2 = './../files/search_gates_ones/testing_logs_search_gates_ones_0.0_0.9_same_rnn_gates_nc.npy'\n",
    "file2 = './../files/search_gates_ones/testing_logs_search_gates_ones_0.0_1.0_same_rnn_gates_nc.npy'\n",
    "\n",
    "# label1 = 'sep RNNs'\n",
    "# label2 = 'same RNN'\n",
    "\n",
    "label1 = 'Binary gates 50% ones'\n",
    "label2 = 'No gates'\n",
    "\n",
    "testing_logs1 = np.load( file1, allow_pickle=True)\n",
    "testing_logs2 = np.load( file2, allow_pickle=True)"
   ]
  },
  {
   "cell_type": "code",
   "execution_count": 29,
   "id": "97de1f10",
   "metadata": {},
   "outputs": [
    {
     "data": {
      "image/png": "[encoded data removed]",
      "text/plain": [
       "<Figure size 648x504 with 49 Axes>"
      ]
     },
     "metadata": {
      "needs_background": "light"
     },
     "output_type": "display_data"
    }
   ],
   "source": [
    "# two figs \n",
    "plt.close('all')\n",
    "logs = testing_logs1\n",
    "num_tasks = len(logs)\n",
    "title_label = 'Training tasks sequentially ---> \\n    ' #+ config['exp_name']\n",
    "max_x = config['trials_per_task']//config['batch_size']\n",
    "fig, axes = plt.subplots(num_tasks,num_tasks, figsize=[9,7])\n",
    "for logi in range(num_tasks):\n",
    "    for li in range(num_tasks):\n",
    "        ax = axes[ li, logi ] # log i goes to the col direction -->\n",
    "        ax.set_ylim([-0.1,1.1])\n",
    "        ax.set_xlim([0, max_x])\n",
    "#         ax.axis('off')\n",
    "        log = testing_logs1[logi]\n",
    "        ax.plot(log['stamps'], [test[li] for test in log['accuracy']], linewidth=2, label=label1)\n",
    "        ax.plot(log['stamps'], np.ones_like(log['stamps'])*0.5, ':', color='grey', linewidth=0.5, label=label1)\n",
    "        if True:\n",
    "            log = testing_logs2[logi]\n",
    "            ax.plot(log['stamps'], [test[li] for test in log['accuracy']], linewidth=2, color='tab:orange', label=label2)\n",
    "\n",
    "        if li == 0: ax.set_title(config['human_task_names'][logi])\n",
    "            \n",
    "        if logi == 0: ax.set_ylabel(config['human_task_names'][li])\n",
    "        ax.set_yticklabels([]) \n",
    "        ax.set_xticklabels([])\n",
    "        if logi== li:\n",
    "            ax.axvspan(*ax.get_xlim(), facecolor='grey', alpha=0.2)\n",
    "        if li == num_tasks-1 and logi in [num_tasks//2 - 4, num_tasks//2, num_tasks//2 + 4] :\n",
    "            ax.set_xlabel('batch #')\n",
    "axes[1, num_tasks-1].legend()\n",
    "\n",
    "for logi in range(num_tasks):\n",
    "    for li in range(num_tasks):\n",
    "        ax = axes[ li, logi ] # log i goes to the col direction -->\n",
    "        log = testing_logs2[logi]\n",
    "        ax.plot(log['stamps'], [test[li] for test in log['accuracy']], linewidth=2)\n",
    "        ax.plot(log['stamps'], np.ones_like(log['stamps'])*0.5, ':', color='grey', linewidth=0.5)\n",
    "\n",
    "        \n",
    "axes[num_tasks-1, num_tasks//2-2].text(-8., -2.5, title_label, fontsize=12)     \n",
    "exp_parameters = f'Exp parameters: {config[\"exp_name\"]}\\nRNN: {\"same\" if config[\"same_rnn\"] else \"separate\"}\\n\\\n",
    "      mul_gate: {\"True\" if config[\"use_gates\"] else \"False\"}\\\n",
    "          {exp_signature}'\n",
    "axes[num_tasks-1, 0].text(-7., -2.2, exp_parameters, fontsize=7)\n",
    "# plt.show(fig)\n",
    "plt.savefig(f'./files/{label1}_vs_{label2}.png', dpi=300)"
   ]
  },
  {
   "cell_type": "code",
   "execution_count": 7,
   "id": "074e4757",
   "metadata": {},
   "outputs": [
    {
     "data": {
      "text/plain": [
       "7"
      ]
     },
     "execution_count": 7,
     "metadata": {},
     "output_type": "execute_result"
    }
   ],
   "source": [
    "len(logs)"
   ]
  },
  {
   "cell_type": "code",
   "execution_count": 8,
   "id": "07cb8aac",
   "metadata": {},
   "outputs": [],
   "source": [
    "def extract_accuracies(logs):\n",
    "    train = []\n",
    "    test = []\n",
    "    num_tasks = len(logs)\n",
    "    for logi in range(num_tasks):\n",
    "        for task_i in range(num_tasks):\n",
    "            log = logs[logi]\n",
    "            if logi== task_i:\n",
    "                train.append(np.array([t[task_i] for t in logs[logi]['accuracy']]))\n",
    "    #                 log['accuracy']task_i])\n",
    "            else:\n",
    "                test.append(np.array([t[task_i] for t in logs[logi]['accuracy']]))\n",
    "    return(np.stack(train), np.stack(test))\n",
    "\n",
    "\n",
    "def extract_accuracies_all(logs):\n",
    "    train = []\n",
    "\n",
    "    num_tasks = len(logs)\n",
    "    for logi in range(num_tasks):\n",
    "        task_tests = []\n",
    "        for task_i in range(num_tasks):\n",
    "            log = logs[logi]\n",
    "            task_tests.append(np.array([t[task_i] for t in logs[logi]['accuracy']]))\n",
    "        train.append(task_tests)\n",
    "    return(np.stack(train))\n",
    "\n",
    "\n",
    "# def get_np_acc(logs, num_tasks):\n",
    "#     logs_tasks_tests_acc = []\n",
    "#     for logi in range(len(logs)):\n",
    "#         test_accuracies = []\n",
    "#         for task_i in range(num_tasks):\n",
    "#             test_accuracies.append([t[task_i] for t in logs[logi]['accuracy']])\n",
    "#         logs_tasks_tests_acc.append(np.stack(test_accuracies))\n",
    "\n",
    "#     ltta = np.stack(logs_tasks_tests_acc)\n",
    "#     return(ltta)\n",
    "\n",
    "\n",
    "# tr_acc = get_np_acc(train, 15)\n",
    "# te_acc = get_np_acc(test, 15)"
   ]
  },
  {
   "cell_type": "code",
   "execution_count": 31,
   "id": "cd842929",
   "metadata": {},
   "outputs": [],
   "source": [
    "tr1, te1 = extract_accuracies(testing_logs1)\n",
    "tr2, te2 = extract_accuracies(testing_logs2)\n"
   ]
  },
  {
   "cell_type": "code",
   "execution_count": 32,
   "id": "66d10a80",
   "metadata": {},
   "outputs": [
    {
     "data": {
      "image/png": "[encoded data removed]",
      "text/plain": [
       "<Figure size 576x432 with 4 Axes>"
      ]
     },
     "metadata": {
      "needs_background": "light"
     },
     "output_type": "display_data"
    }
   ],
   "source": [
    "fig, axes = plt.subplots(2,2, figsize=(8,6))\n",
    "ax = axes[0,0]\n",
    "ax.set_title('trained task')\n",
    "ax.plot(testing_logs1[0]['stamps'], tr1.mean(axis=(0)), label=label1)\n",
    "ax.plot(testing_logs2[0]['stamps'], tr2.mean(axis=(0)), color='red', label=label2)\n",
    "ax.axvspan(*ax.get_xlim(), facecolor='grey', alpha=0.2)\n",
    "ax.set_ylim([-0.1, 1.1])\n",
    "ax.set_ylabel('performance')\n",
    "ax.set_xlabel('batch #')\n",
    "ax.legend()\n",
    "\n",
    "ax = axes[0,1]\n",
    "ax.set_title('other tasks')\n",
    "ax.plot(testing_logs1[0]['stamps'], te1.mean(axis=(0)), label=label1)\n",
    "ax.plot(testing_logs2[0]['stamps'], te2.mean(axis=(0)), color= 'red', label=label2)\n",
    "ax.set_xlabel('batch #')\n",
    "ax.legend()\n",
    "\n",
    "ax.set_ylim([-0.1, 1.1])\n",
    "# fig.savefig('./files/gates_no_gates_comp.jpg')\n",
    "fig.savefig(f'./files/{label1}_{label2}comp.png', dpi=600)"
   ]
  },
  {
   "cell_type": "markdown",
   "id": "22323b9f",
   "metadata": {},
   "source": [
    "logs[0]['accuracy'] has 20 enteries for each time step, and each entry has accuracy of all tasks at that time step."
   ]
  },
  {
   "cell_type": "code",
   "execution_count": 9,
   "id": "75a97f1c",
   "metadata": {},
   "outputs": [],
   "source": [
    "tt = extract_accuracies_all(logs)"
   ]
  },
  {
   "cell_type": "code",
   "execution_count": 39,
   "id": "fbf38f4a",
   "metadata": {},
   "outputs": [
    {
     "data": {
      "text/plain": [
       "Text(0.5, 1.0, 'upper')"
      ]
     },
     "execution_count": 39,
     "metadata": {},
     "output_type": "execute_result"
    },
    {
     "data": {
      "image/png": "[encoded data removed]",
      "text/plain": [
       "<Figure size 432x288 with 1 Axes>"
      ]
     },
     "metadata": {
      "needs_background": "light"
     },
     "output_type": "display_data"
    }
   ],
   "source": [
    "def get_diffs(logs, triangle='upper', k=1):\n",
    "    '''take a log, and return the improvement in the mean accuracy of tasks\n",
    "    triangle: look at \"upper\" or \"lower\" triangle corrospondin to \"after\" or \"before\" index task was trained\n",
    "    k: take from diagonal (0) or above it (1) or below it (-1)'''\n",
    "    \n",
    "    tt = extract_accuracies_all(logs)\n",
    "    tavg = tt.mean(-1)\n",
    "\n",
    "    tdiff = tavg[1:, :] -  tavg[:-1, :]    \n",
    "    if triangle == 'upper':\n",
    "        tri = tdiff[np.triu_indices_from(tdiff,k)] # this just return the values of all the upper triangular locations above diagonal 1. Pass - instead to get all upper tri\n",
    "    elif (triangle == 'lower'):\n",
    "        tri = tdiff[np.tril_indices_from(tdiff,k)] # this just return the values of all the upper triangular locations above diagonal 1. Pass - instead to get all upper tri    \n",
    "    \n",
    "    sorted_diffs = np.sort(tri)\n",
    "    return(sorted_diffs)\n",
    "\n",
    "\n",
    "comp1 = get_diffs(testing_logs1, 'upper', 1)\n",
    "comp2 = get_diffs(testing_logs2, 'upper', 1)\n",
    "\n",
    "# lt = get_diffs(logs, 'lower', -1)\n",
    "_=plt.bar(range(comp1.shape[0]), np.sort(comp1), label=label1)\n",
    "_=plt.bar(range(comp2.shape[0]), np.sort(comp2), alpha = 0.7, label=label2)\n",
    "plt.legend()\n",
    "plt.gca().set_title('upper')\n"
   ]
  },
  {
   "cell_type": "code",
   "execution_count": 40,
   "id": "7fde0016",
   "metadata": {},
   "outputs": [
    {
     "data": {
      "text/plain": [
       "Text(0.5, 1.0, 'lower')"
      ]
     },
     "execution_count": 40,
     "metadata": {},
     "output_type": "execute_result"
    },
    {
     "data": {
      "image/png": "[encoded data removed]",
      "text/plain": [
       "<Figure size 432x288 with 1 Axes>"
      ]
     },
     "metadata": {
      "needs_background": "light"
     },
     "output_type": "display_data"
    }
   ],
   "source": [
    "comp1 = get_diffs(testing_logs1, 'lower', 1)\n",
    "comp2 = get_diffs(testing_logs2, 'lower', 1)\n",
    "\n",
    "# lt = get_diffs(logs, 'lower', -1)\n",
    "_=plt.bar(range(comp1.shape[0]), np.sort(comp1), label=label1)\n",
    "_=plt.bar(range(comp2.shape[0]), np.sort(comp2), alpha = 0.7, label=label2)\n",
    "plt.legend()\n",
    "plt.gca().set_title('lower')\n"
   ]
  },
  {
   "cell_type": "code",
   "execution_count": 45,
   "id": "0780bf30",
   "metadata": {},
   "outputs": [
    {
     "data": {
      "text/plain": [
       "0.026425926"
      ]
     },
     "execution_count": 45,
     "metadata": {},
     "output_type": "execute_result"
    }
   ],
   "source": [
    "comp1.mean()"
   ]
  },
  {
   "cell_type": "code",
   "execution_count": 47,
   "id": "710f35dd",
   "metadata": {},
   "outputs": [
    {
     "data": {
      "text/plain": [
       "0.04837036"
      ]
     },
     "execution_count": 47,
     "metadata": {},
     "output_type": "execute_result"
    }
   ],
   "source": [
    "comp2.mean()"
   ]
  },
  {
   "cell_type": "code",
   "execution_count": 9,
   "id": "006a8d3e",
   "metadata": {},
   "outputs": [],
   "source": [
    "tavg = tt.mean(-1)"
   ]
  },
  {
   "cell_type": "code",
   "execution_count": 10,
   "id": "3cccbfaa",
   "metadata": {},
   "outputs": [
    {
     "data": {
      "text/plain": [
       "array([[0.1595    , 0.        , 0.        , 0.0135    , 0.251     ,\n",
       "        0.43199998, 0.48399997],\n",
       "       [0.12349999, 0.99300003, 0.06599999, 0.097     , 0.039     ,\n",
       "        0.036     , 0.0555    ],\n",
       "       [0.0675    , 1.        , 0.46199998, 0.07049999, 0.0375    ,\n",
       "        0.0235    , 0.033     ],\n",
       "       [0.1085    , 0.954     , 0.2595    , 0.9835    , 0.0905    ,\n",
       "        0.052     , 0.0425    ],\n",
       "       [0.0775    , 0.57199997, 0.071     , 0.57799995, 0.92700005,\n",
       "        0.47199994, 0.19150001],\n",
       "       [0.10699999, 0.22749999, 0.06399999, 0.299     , 0.4355    ,\n",
       "        0.971     , 0.39549997],\n",
       "       [0.148     , 0.10699999, 0.0115    , 0.0615    , 0.215     ,\n",
       "        0.44649997, 0.978     ]], dtype=float32)"
      ]
     },
     "execution_count": 10,
     "metadata": {},
     "output_type": "execute_result"
    }
   ],
   "source": [
    "tavg"
   ]
  },
  {
   "cell_type": "code",
   "execution_count": 11,
   "id": "4464ffcc",
   "metadata": {},
   "outputs": [],
   "source": [
    "tdiff = tavg[1:, :] -  tavg[:-1, :]"
   ]
  },
  {
   "cell_type": "code",
   "execution_count": 12,
   "id": "d2938169",
   "metadata": {},
   "outputs": [
    {
     "data": {
      "text/plain": [
       "(6, 7)"
      ]
     },
     "execution_count": 12,
     "metadata": {},
     "output_type": "execute_result"
    }
   ],
   "source": [
    "tdiff.shape"
   ]
  },
  {
   "cell_type": "code",
   "execution_count": 45,
   "id": "0dbec7ee",
   "metadata": {},
   "outputs": [
    {
     "data": {
      "text/plain": [
       "array([[ 0.        ,  0.99300003,  0.06599999,  0.08350001, -0.21199998],\n",
       "       [ 0.        ,  0.        ,  0.396     , -0.02650001, -0.0015    ],\n",
       "       [ 0.        ,  0.        ,  0.        ,  0.913     ,  0.053     ],\n",
       "       [ 0.        ,  0.        ,  0.        ,  0.        ,  0.83650005],\n",
       "       [ 0.        ,  0.        ,  0.        ,  0.        ,  0.        ]],\n",
       "      dtype=float32)"
      ]
     },
     "execution_count": 45,
     "metadata": {},
     "output_type": "execute_result"
    }
   ],
   "source": [
    "np.triu(tdiff,1)[:5,:5] # returns the matrix with zeros outside of upper triangle. Passing k=1 lifts up the tri to above the first diagnoal"
   ]
  },
  {
   "cell_type": "code",
   "execution_count": 49,
   "id": "b0afe02f",
   "metadata": {},
   "outputs": [
    {
     "data": {
      "text/plain": [
       "array([[ 0.        ,  0.        ,  0.        ,  0.        ,  0.        ],\n",
       "       [-0.05599999,  0.        ,  0.        ,  0.        ,  0.        ],\n",
       "       [ 0.041     , -0.046     ,  0.        ,  0.        ,  0.        ],\n",
       "       [-0.031     , -0.38200003, -0.18849999,  0.        ,  0.        ],\n",
       "       [ 0.02949999, -0.34449998, -0.00700001, -0.27899995,  0.        ]],\n",
       "      dtype=float32)"
      ]
     },
     "execution_count": 49,
     "metadata": {},
     "output_type": "execute_result"
    }
   ],
   "source": [
    "np.tril(tdiff,-1)[:5,:5] # returns the matrix with zeros outside of upper triangle. Passing k=1 lifts up the tri to above the first diagnoal"
   ]
  },
  {
   "cell_type": "code",
   "execution_count": 34,
   "id": "709badcb",
   "metadata": {},
   "outputs": [],
   "source": [
    "ut = tdiff[np.triu_indices_from(tdiff,1)] # this just return the values of all the upper triangular locations above diagonal 1. Pass - instead to get all upper tri\n",
    "lt = tdiff[np.tril_indices_from(tdiff,-1)] # this just return the values of all the upper triangular locations above diagonal 1. Pass - instead to get all upper tri"
   ]
  },
  {
   "cell_type": "code",
   "execution_count": 33,
   "id": "bd664a97",
   "metadata": {},
   "outputs": [
    {
     "data": {
      "text/plain": [
       "array([-0.05599999,  0.041     , -0.046     , -0.031     , -0.38200003,\n",
       "       -0.18849999,  0.02949999, -0.34449998, -0.00700001, -0.27899995,\n",
       "        0.04100001, -0.1205    , -0.05249999, -0.2375    , -0.22049999],\n",
       "      dtype=float32)"
      ]
     },
     "execution_count": 33,
     "metadata": {},
     "output_type": "execute_result"
    }
   ],
   "source": [
    "tdiff[np.tril_indices_from(tdiff,-1)]"
   ]
  },
  {
   "cell_type": "code",
   "execution_count": 47,
   "id": "503ff8e8",
   "metadata": {},
   "outputs": [
    {
     "data": {
      "text/plain": [
       "(6, 7)"
      ]
     },
     "execution_count": 47,
     "metadata": {},
     "output_type": "execute_result"
    }
   ],
   "source": [
    "tdiff.shape"
   ]
  },
  {
   "cell_type": "code",
   "execution_count": 35,
   "id": "ba3c0501",
   "metadata": {},
   "outputs": [
    {
     "data": {
      "text/plain": [
       "<BarContainer object of 15 artists>"
      ]
     },
     "execution_count": 35,
     "metadata": {},
     "output_type": "execute_result"
    },
    {
     "data": {
      "image/png": "[encoded data removed]",
      "text/plain": [
       "<Figure size 432x288 with 1 Axes>"
      ]
     },
     "metadata": {
      "needs_background": "light"
     },
     "output_type": "display_data"
    }
   ],
   "source": [
    "plt.bar(range(ut.shape[0]), np.sort(ut))\n",
    "plt.bar(range(lt.shape[0]), np.sort(lt))\n"
   ]
  },
  {
   "cell_type": "code",
   "execution_count": 28,
   "id": "e953cb5f",
   "metadata": {},
   "outputs": [
    {
     "name": "stdout",
     "output_type": "stream",
     "text": [
      "Help on function sort in module numpy:\n",
      "\n",
      "sort(a, axis=-1, kind=None, order=None)\n",
      "    Return a sorted copy of an array.\n",
      "    \n",
      "    Parameters\n",
      "    ----------\n",
      "    a : array_like\n",
      "        Array to be sorted.\n",
      "    axis : int or None, optional\n",
      "        Axis along which to sort. If None, the array is flattened before\n",
      "        sorting. The default is -1, which sorts along the last axis.\n",
      "    kind : {'quicksort', 'mergesort', 'heapsort', 'stable'}, optional\n",
      "        Sorting algorithm. The default is 'quicksort'. Note that both 'stable'\n",
      "        and 'mergesort' use timsort or radix sort under the covers and, in general,\n",
      "        the actual implementation will vary with data type. The 'mergesort' option\n",
      "        is retained for backwards compatibility.\n",
      "    \n",
      "        .. versionchanged:: 1.15.0.\n",
      "           The 'stable' option was added.\n",
      "    \n",
      "    order : str or list of str, optional\n",
      "        When `a` is an array with fields defined, this argument specifies\n",
      "        which fields to compare first, second, etc.  A single field can\n",
      "        be specified as a string, and not all fields need be specified,\n",
      "        but unspecified fields will still be used, in the order in which\n",
      "        they come up in the dtype, to break ties.\n",
      "    \n",
      "    Returns\n",
      "    -------\n",
      "    sorted_array : ndarray\n",
      "        Array of the same type and shape as `a`.\n",
      "    \n",
      "    See Also\n",
      "    --------\n",
      "    ndarray.sort : Method to sort an array in-place.\n",
      "    argsort : Indirect sort.\n",
      "    lexsort : Indirect stable sort on multiple keys.\n",
      "    searchsorted : Find elements in a sorted array.\n",
      "    partition : Partial sort.\n",
      "    \n",
      "    Notes\n",
      "    -----\n",
      "    The various sorting algorithms are characterized by their average speed,\n",
      "    worst case performance, work space size, and whether they are stable. A\n",
      "    stable sort keeps items with the same key in the same relative\n",
      "    order. The four algorithms implemented in NumPy have the following\n",
      "    properties:\n",
      "    \n",
      "    =========== ======= ============= ============ ========\n",
      "       kind      speed   worst case    work space   stable\n",
      "    =========== ======= ============= ============ ========\n",
      "    'quicksort'    1     O(n^2)            0          no\n",
      "    'heapsort'     3     O(n*log(n))       0          no\n",
      "    'mergesort'    2     O(n*log(n))      ~n/2        yes\n",
      "    'timsort'      2     O(n*log(n))      ~n/2        yes\n",
      "    =========== ======= ============= ============ ========\n",
      "    \n",
      "    .. note:: The datatype determines which of 'mergesort' or 'timsort'\n",
      "       is actually used, even if 'mergesort' is specified. User selection\n",
      "       at a finer scale is not currently available.\n",
      "    \n",
      "    All the sort algorithms make temporary copies of the data when\n",
      "    sorting along any but the last axis.  Consequently, sorting along\n",
      "    the last axis is faster and uses less space than sorting along\n",
      "    any other axis.\n",
      "    \n",
      "    The sort order for complex numbers is lexicographic. If both the real\n",
      "    and imaginary parts are non-nan then the order is determined by the\n",
      "    real parts except when they are equal, in which case the order is\n",
      "    determined by the imaginary parts.\n",
      "    \n",
      "    Previous to numpy 1.4.0 sorting real and complex arrays containing nan\n",
      "    values led to undefined behaviour. In numpy versions >= 1.4.0 nan\n",
      "    values are sorted to the end. The extended sort order is:\n",
      "    \n",
      "      * Real: [R, nan]\n",
      "      * Complex: [R + Rj, R + nanj, nan + Rj, nan + nanj]\n",
      "    \n",
      "    where R is a non-nan real value. Complex values with the same nan\n",
      "    placements are sorted according to the non-nan part if it exists.\n",
      "    Non-nan values are sorted as before.\n",
      "    \n",
      "    .. versionadded:: 1.12.0\n",
      "    \n",
      "    quicksort has been changed to `introsort <https://en.wikipedia.org/wiki/Introsort>`_.\n",
      "    When sorting does not make enough progress it switches to\n",
      "    `heapsort <https://en.wikipedia.org/wiki/Heapsort>`_.\n",
      "    This implementation makes quicksort O(n*log(n)) in the worst case.\n",
      "    \n",
      "    'stable' automatically chooses the best stable sorting algorithm\n",
      "    for the data type being sorted.\n",
      "    It, along with 'mergesort' is currently mapped to\n",
      "    `timsort <https://en.wikipedia.org/wiki/Timsort>`_\n",
      "    or `radix sort <https://en.wikipedia.org/wiki/Radix_sort>`_\n",
      "    depending on the data type.\n",
      "    API forward compatibility currently limits the\n",
      "    ability to select the implementation and it is hardwired for the different\n",
      "    data types.\n",
      "    \n",
      "    .. versionadded:: 1.17.0\n",
      "    \n",
      "    Timsort is added for better performance on already or nearly\n",
      "    sorted data. On random data timsort is almost identical to\n",
      "    mergesort. It is now used for stable sort while quicksort is still the\n",
      "    default sort if none is chosen. For timsort details, refer to\n",
      "    `CPython listsort.txt <https://github.com/python/cpython/blob/3.7/Objects/listsort.txt>`_.\n",
      "    'mergesort' and 'stable' are mapped to radix sort for integer data types. Radix sort is an\n",
      "    O(n) sort instead of O(n log n).\n",
      "    \n",
      "    .. versionchanged:: 1.18.0\n",
      "    \n",
      "    NaT now sorts to the end of arrays for consistency with NaN.\n",
      "    \n",
      "    Examples\n",
      "    --------\n",
      "    >>> a = np.array([[1,4],[3,1]])\n",
      "    >>> np.sort(a)                # sort along the last axis\n",
      "    array([[1, 4],\n",
      "           [1, 3]])\n",
      "    >>> np.sort(a, axis=None)     # sort the flattened array\n",
      "    array([1, 1, 3, 4])\n",
      "    >>> np.sort(a, axis=0)        # sort along the first axis\n",
      "    array([[1, 1],\n",
      "           [3, 4]])\n",
      "    \n",
      "    Use the `order` keyword to specify a field to use when sorting a\n",
      "    structured array:\n",
      "    \n",
      "    >>> dtype = [('name', 'S10'), ('height', float), ('age', int)]\n",
      "    >>> values = [('Arthur', 1.8, 41), ('Lancelot', 1.9, 38),\n",
      "    ...           ('Galahad', 1.7, 38)]\n",
      "    >>> a = np.array(values, dtype=dtype)       # create a structured array\n",
      "    >>> np.sort(a, order='height')                        # doctest: +SKIP\n",
      "    array([('Galahad', 1.7, 38), ('Arthur', 1.8, 41),\n",
      "           ('Lancelot', 1.8999999999999999, 38)],\n",
      "          dtype=[('name', '|S10'), ('height', '<f8'), ('age', '<i4')])\n",
      "    \n",
      "    Sort by age, then height if ages are equal:\n",
      "    \n",
      "    >>> np.sort(a, order=['age', 'height'])               # doctest: +SKIP\n",
      "    array([('Galahad', 1.7, 38), ('Lancelot', 1.8999999999999999, 38),\n",
      "           ('Arthur', 1.8, 41)],\n",
      "          dtype=[('name', '|S10'), ('height', '<f8'), ('age', '<i4')])\n",
      "\n"
     ]
    }
   ],
   "source": [
    "help(np.sort)"
   ]
  },
  {
   "cell_type": "code",
   "execution_count": null,
   "id": "0e152455",
   "metadata": {},
   "outputs": [],
   "source": [
    "te1.shape"
   ]
  },
  {
   "cell_type": "code",
   "execution_count": null,
   "id": "5a6bf13e",
   "metadata": {},
   "outputs": [],
   "source": [
    "with_gates_te = te_acc\n",
    "with_gates_tr = tr_acc"
   ]
  },
  {
   "cell_type": "code",
   "execution_count": null,
   "id": "b548968f",
   "metadata": {},
   "outputs": [],
   "source": [
    "\n",
    "fig, ax = plt.subplots(1)\n",
    "logs = testing_logs\n",
    "\n",
    "train = []\n",
    "test = []\n",
    "for logi in range(num_tasks):\n",
    "    for li in range(num_tasks):\n",
    "        log = testing_logs[logi]\n",
    "        if logi== li:\n",
    "            train.append(logs[logi]['accuracy'])\n",
    "        else:\n",
    "            test.append(logs[logi]['accuracy'])\n",
    "\n",
    "    \n",
    "            \n",
    "train = np.stack(train)\n",
    "test = np.stack(test)\n",
    "print(train.shape)\n",
    "print(test.shape)\n",
    "ax.set_ylim([-0.1,1.1])\n",
    "ax.set_xlim([0, max_x])\n",
    "ax.plot(log['stamps'], train.mean(axis=0), linewidth=2)\n",
    "ax.plot(log['stamps'], test.mean(axis=0), color='grey', linewidth=2)\n",
    "# if li == 0: ax.set_title(config['human_task_names'][logi])\n",
    "# if logi == 0: ax.set_ylabel(config['human_task_names'][li])\n",
    "ax.set_yticklabels([]) \n",
    "ax.set_xticklabels([])\n",
    "        \n",
    "ax.axvspan(*ax.get_xlim(), facecolor='grey', alpha=0.2)\n",
    "if li == num_tasks-1 and logi in [num_tasks//2 - 4, num_tasks//2, num_tasks//2 + 4] :\n",
    "    ax.set_xlabel('batch #')\n"
   ]
  },
  {
   "cell_type": "code",
   "execution_count": null,
   "id": "cb3e800f",
   "metadata": {},
   "outputs": [],
   "source": [
    "np.stack(train[0][0].values())"
   ]
  },
  {
   "cell_type": "code",
   "execution_count": null,
   "id": "fee8aae5",
   "metadata": {},
   "outputs": [],
   "source": [
    "logs[0]['accuracy']"
   ]
  },
  {
   "cell_type": "code",
   "execution_count": null,
   "id": "4d02a0e5",
   "metadata": {},
   "outputs": [],
   "source": [
    "test_accuracies = []\n",
    "for task_i in range(15):\n",
    "    test_accuracies.append([test[task_i] for test in logs[0]['accuracy']])\n"
   ]
  },
  {
   "cell_type": "code",
   "execution_count": null,
   "id": "7f9dc497",
   "metadata": {},
   "outputs": [],
   "source": [
    "ta = np.stack(test_accuracies)"
   ]
  },
  {
   "cell_type": "code",
   "execution_count": null,
   "id": "d8d941a3",
   "metadata": {},
   "outputs": [],
   "source": [
    "\n",
    "ta.shape"
   ]
  },
  {
   "cell_type": "code",
   "execution_count": null,
   "id": "7c9ebaac",
   "metadata": {},
   "outputs": [],
   "source": [
    "ta"
   ]
  },
  {
   "cell_type": "code",
   "execution_count": null,
   "id": "0736c084",
   "metadata": {},
   "outputs": [],
   "source": [
    "task_i = 0\n",
    "zz= zip(log['stamps'], [test[task_i] for test in logs[0]['accuracy']])"
   ]
  },
  {
   "cell_type": "code",
   "execution_count": null,
   "id": "90b8642c",
   "metadata": {},
   "outputs": [],
   "source": [
    "[print( (z, a)) for z, a in zz]"
   ]
  },
  {
   "cell_type": "code",
   "execution_count": null,
   "id": "f8555e4c",
   "metadata": {},
   "outputs": [],
   "source": []
  },
  {
   "cell_type": "code",
   "execution_count": null,
   "id": "20dfbb81",
   "metadata": {},
   "outputs": [],
   "source": []
  },
  {
   "cell_type": "code",
   "execution_count": null,
   "id": "29fd61b0",
   "metadata": {},
   "outputs": [],
   "source": []
  }
 ],
 "metadata": {
  "kernelspec": {
   "display_name": "Python 3 (ipykernel)",
   "language": "python",
   "name": "python3"
  },
  "language_info": {
   "codemirror_mode": {
    "name": "ipython",
    "version": 3
   },
   "file_extension": ".py",
   "mimetype": "text/x-python",
   "name": "python",
   "nbconvert_exporter": "python",
   "pygments_lexer": "ipython3",
   "version": "3.8.11"
  }
 },
 "nbformat": 4,
 "nbformat_minor": 5
}
