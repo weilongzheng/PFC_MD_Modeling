{
 "cells": [
  {
   "cell_type": "markdown",
   "id": "06101a44",
   "metadata": {},
   "source": [
    "Analyzing serial neurogym results"
   ]
  },
  {
   "cell_type": "code",
   "execution_count": 1,
   "id": "0ac0e263",
   "metadata": {},
   "outputs": [],
   "source": [
    "#!/usr/bin/env python\n",
    "# coding: utf-8\n",
    "# system\n",
    "import os\n",
    "import sys\n",
    "root = os.getcwd()\n",
    "sys.path.append(root)\n",
    "sys.path.append('..')\n",
    "from pathlib import Path\n",
    "import json\n",
    "# tools\n",
    "import time\n",
    "import itertools\n",
    "from collections import defaultdict\n",
    "# computation\n",
    "import math\n",
    "import numpy as np\n",
    "import random\n",
    "import pandas as pd\n",
    "import torch\n",
    "import torch.nn as nn\n",
    "from torch.nn import init\n",
    "from torch.nn import functional as F\n",
    "# tasks\n",
    "import gym\n",
    "import neurogym as ngym\n",
    "from neurogym.wrappers import ScheduleEnvs\n",
    "from neurogym.utils.scheduler import RandomSchedule\n",
    "# models\n",
    "# from model_dev import RNN_MD\n",
    "# from model_dev import serial_RNN_MD as RNN_MD\n",
    "# from utils import get_full_performance\n",
    "# visualization\n",
    "import matplotlib as mpl\n",
    "mpl.rcParams['axes.spines.left'] = True\n",
    "mpl.rcParams['axes.spines.right'] = False\n",
    "mpl.rcParams['axes.spines.top'] = False\n",
    "mpl.rcParams['axes.spines.bottom'] = True\n",
    "# mpl.rcParams['pdf.fonttype'] = 42\n",
    "# mpl.rcParams['ps.fonttype'] = 42\n",
    "import matplotlib.pyplot as plt\n",
    "import matplotlib\n",
    "from tqdm import tqdm, trange"
   ]
  },
  {
   "cell_type": "code",
   "execution_count": 2,
   "metadata": {},
   "outputs": [
    {
     "name": "stdout",
     "output_type": "stream",
     "text": [
      "current folder:  /home/ahummos/code/PFC_MD_Modeling/CL_neurogym/analysis\n",
      "testing_logs : ['testing_log_10_-1.0_2000.0_gaus_cut_tc_mul_nog.npy', 'testing_log_11_-1.0_2000.0_gaus_cut_tc_mul_nog.npy', 'testing_log_12_-1.0_2000.0_gaus_cut_tc_mul_nog.npy', 'testing_log_13_-1.0_2000.0_gaus_cut_tc_mul_nog.npy', 'testing_log_14_-1.0_2000.0_gaus_cut_tc_mul_nog.npy', 'testing_log_15_-1.0_2000.0_gaus_cut_tc_mul_nog.npy', 'testing_log_16_-1.0_2000.0_gaus_cut_tc_mul_nog.npy', 'testing_log_17_-1.0_2000.0_gaus_cut_tc_mul_nog.npy', 'testing_log_18_-1.0_2000.0_gaus_cut_tc_mul_nog.npy', 'testing_log_19_-1.0_2000.0_gaus_cut_tc_mul_nog.npy', 'testing_log_3_-1.0_2000.0_gaus_cut_tc_mul_nog.npy', 'testing_log_4_-1.0_2000.0_gaus_cut_tc_mul_nog.npy', 'testing_log_5_-1.0_2000.0_gaus_cut_tc_mul_nog.npy', 'testing_log_6_-1.0_2000.0_gaus_cut_tc_mul_nog.npy', 'testing_log_7_-1.0_2000.0_gaus_cut_tc_mul_nog.npy', 'testing_log_8_-1.0_2000.0_gaus_cut_tc_mul_nog.npy', 'testing_log_9_-1.0_2000.0_gaus_cut_tc_mul_nog.npy']\n"
     ]
    }
   ],
   "source": [
    "exp_name= 'order_order_order_nogates'\n",
    "print('current folder: ', os.getcwd())\n",
    "data_folder = './../files/'+exp_name+'/'\n",
    "filenames = os.listdir(data_folder)\n",
    "log_files3 = [logfile for logfile in filenames if logfile.__contains__('testing_log')]\n",
    "config_files3 = [logfile for logfile in filenames if logfile.__contains__('config')]\n",
    "# print('config files: ', config_files)\n",
    "print('testing_logs :', log_files3)"
   ]
  },
  {
   "cell_type": "code",
   "execution_count": 3,
   "metadata": {},
   "outputs": [
    {
     "name": "stdout",
     "output_type": "stream",
     "text": [
      "current folder:  /home/ahummos/code/PFC_MD_Modeling/CL_neurogym/analysis\n",
      "testing_logs : ['testing_log_SecRound_10_-1.0_2000.0_gaus_cut_tc_mul_gates.npy', 'testing_log_SecRound_11_-1.0_2000.0_gaus_cut_tc_mul_gates.npy', 'testing_log_SecRound_12_-1.0_2000.0_gaus_cut_tc_mul_gates.npy', 'testing_log_SecRound_13_-1.0_2000.0_gaus_cut_tc_mul_gates.npy', 'testing_log_SecRound_14_-1.0_2000.0_gaus_cut_tc_mul_gates.npy', 'testing_log_SecRound_15_-1.0_2000.0_gaus_cut_tc_mul_gates.npy', 'testing_log_SecRound_16_-1.0_2000.0_gaus_cut_tc_mul_gates.npy', 'testing_log_SecRound_17_-1.0_2000.0_gaus_cut_tc_mul_gates.npy', 'testing_log_SecRound_18_-1.0_2000.0_gaus_cut_tc_mul_gates.npy', 'testing_log_SecRound_19_-1.0_2000.0_gaus_cut_tc_mul_gates.npy', 'testing_log_SecRound_3_-1.0_2000.0_gaus_cut_tc_mul_gates.npy', 'testing_log_SecRound_4_-1.0_2000.0_gaus_cut_tc_mul_gates.npy', 'testing_log_SecRound_5_-1.0_2000.0_gaus_cut_tc_mul_gates.npy', 'testing_log_SecRound_6_-1.0_2000.0_gaus_cut_tc_mul_gates.npy', 'testing_log_SecRound_7_-1.0_2000.0_gaus_cut_tc_mul_gates.npy', 'testing_log_SecRound_8_-1.0_2000.0_gaus_cut_tc_mul_gates.npy', 'testing_log_SecRound_9_-1.0_2000.0_gaus_cut_tc_mul_gates.npy']\n"
     ]
    }
   ],
   "source": [
    "exp_name= 'order_order_order'\n",
    "print('current folder: ', os.getcwd())\n",
    "data_folder = './../files/'+exp_name+'/'\n",
    "filenames = os.listdir(data_folder)\n",
    "log_files = [logfile for logfile in filenames if logfile.__contains__('testing_log')]\n",
    "config_files = [logfile for logfile in filenames if logfile.__contains__('config')]\n",
    "# print('config files: ', config_files)\n",
    "\n",
    "log_files1 = [logfile for logfile in log_files if not logfile.__contains__('SecRound')]\n",
    "log_files2 = [logfile for logfile in log_files if logfile.__contains__('SecRound')]\n",
    "config_files1 = [logfile for logfile in config_files if not logfile.__contains__('SecRound')]\n",
    "config_files2 = [logfile for logfile in config_files if logfile.__contains__('SecRound')]\n",
    "print('testing_logs :', log_files2)"
   ]
  },
  {
   "cell_type": "code",
   "execution_count": 6,
   "metadata": {},
   "outputs": [],
   "source": [
    "lfiles = log_files1\n",
    "logs = []\n",
    "for fi, fn in enumerate(lfiles):\n",
    "    logs.append(np.load(f'./../files/{exp_name}/' + fn, allow_pickle=True).item())\n"
   ]
  },
  {
   "cell_type": "code",
   "execution_count": 23,
   "metadata": {},
   "outputs": [
    {
     "name": "stderr",
     "output_type": "stream",
     "text": [
      "/tmp/ipykernel_46169/1651177177.py:64: UserWarning: FixedFormatter should only be used together with FixedLocator\n",
      "  _=ax.set_xticklabels( ['', 'random gates','', 'Corr gates', '','No gates'], rotation=0 )\n"
     ]
    },
    {
     "data": {
      "image/png": "[encoded data removed]",
      "text/plain": [
       "<Figure size 576x216 with 2 Axes>"
      ]
     },
     "metadata": {
      "needs_background": "light"
     },
     "output_type": "display_data"
    }
   ],
   "source": [
    "# Clean up and make into a function\n",
    "def get_ttc_new_tasks(logs):\n",
    "    ttc_new_tasks = []\n",
    "\n",
    "    for log in logs:\n",
    "        already_seen = []\n",
    "        new_task_tc = []\n",
    "        for ti, id in enumerate(log.switch_task_id):\n",
    "            if id not in already_seen:\n",
    "                new_task_tc.append(log.switch_trialxxbatch[ti+1]-log.switch_trialxxbatch[ti])\n",
    "                already_seen.append(id)\n",
    "                # print('task ID: ', id, '  tc:  ', new_task_tc[-1])\n",
    "\n",
    "        ttc_new_tasks.append(new_task_tc)\n",
    "    return(np.stack(ttc_new_tasks))\n",
    "exp_name= 'order_order_order'\n",
    "lfiles = log_files1\n",
    "logs = []\n",
    "for fi, fn in enumerate(lfiles):\n",
    "    logs.append(np.load(f'./../files/{exp_name}/' + fn, allow_pickle=True).item())\n",
    "\n",
    "ttc_new_1st = get_ttc_new_tasks(logs)\n",
    "\n",
    "lfiles = log_files2\n",
    "logs = []\n",
    "for fi, fn in enumerate(lfiles):\n",
    "    logs.append(np.load(f'./../files/{exp_name}/' + fn, allow_pickle=True).item())\n",
    "\n",
    "ttc_new_2nd = get_ttc_new_tasks(logs)\n",
    "\n",
    "exp_name= 'order_order_order_nogates'\n",
    "lfiles = log_files3\n",
    "logs = []\n",
    "for fi, fn in enumerate(lfiles):\n",
    "    logs.append(np.load(f'./../files/{exp_name}/' + fn, allow_pickle=True).item())\n",
    "\n",
    "ttc_new_3rd = get_ttc_new_tasks(logs)\n",
    "\n",
    "\n",
    "fig, axes = plt.subplots(1,2, figsize=([8,3]))\n",
    "color1= 'tab:blue'\n",
    "color2= 'tab:orange'\n",
    "color3= 'tab:green'\n",
    "m1 = ttc_new_1st.mean(0)\n",
    "s1 = ttc_new_1st.std(0)\n",
    "m2 = ttc_new_2nd.mean(0)\n",
    "s2 = ttc_new_2nd.std(0)\n",
    "m3 = ttc_new_3rd.mean(0)\n",
    "s3 = ttc_new_3rd.std(0)\n",
    "ax =axes[0]\n",
    "ax.plot(m1, label= 'random gates', color= color1)\n",
    "# ax.fill_between(range(len(m1)), m1-s1, m1+s1, alpha=0.3, color= color1)\n",
    "ax.plot(m2, label='Corr specified gates', color= color2)\n",
    "# ax.fill_between(range(len(m2)), m2-s2, m2+s2, alpha=0.3, color= color2)\n",
    "ax.plot(m3, label='No gates', color= color3)\n",
    "ax.legend()\n",
    "ax.set_xlabel('Task learning order')\n",
    "ax.set_ylabel('Trials to criterion')\n",
    "\n",
    "ax =axes[1]\n",
    "\n",
    "ax.bar(range(5), [m1.mean(),0., m2.mean(), 0.,m3.mean()], color= [ color1, 'b', color2, 'b', color3])\n",
    "# ax.errorbar(range(5),[m1.mean(),0., m2.mean(), 0.,m3.mean()], [m1.std(),0., m2.std(), 0.,m3.std()])\n",
    "_=ax.set_xticklabels( ['', 'random gates','', 'Corr gates', '','No gates'], rotation=0 )\n",
    "ax.set_ylabel('trials to crit')\n",
    "plt.savefig('trials_to_crit_new_tasks_corr_gates',dpi=300)"
   ]
  },
  {
   "cell_type": "code",
   "execution_count": 21,
   "metadata": {},
   "outputs": [
    {
     "name": "stderr",
     "output_type": "stream",
     "text": [
      "/tmp/ipykernel_46169/3269487476.py:71: UserWarning: FixedFormatter should only be used together with FixedLocator\n",
      "  _=ax.set_xticklabels( ['', 'rnd gates','', 'Corr gates', '','No gates'], rotation=0 )\n"
     ]
    },
    {
     "data": {
      "image/png": "[encoded data removed]",
      "text/plain": [
       "<Figure size 576x216 with 2 Axes>"
      ]
     },
     "metadata": {
      "needs_background": "light"
     },
     "output_type": "display_data"
    }
   ],
   "source": [
    "# Lok at rehearsals\n",
    "\n",
    "def get_ttc_rehearsals(logs, rehearsal_no):\n",
    "    rehearsal_data=[]\n",
    "    for log in logs:\n",
    "        tstamps = log.switch_trialxxbatch + [log.total_batches]\n",
    "\n",
    "        counts = np.zeros(15)\n",
    "        times_seen =[]\n",
    "        ttcs = []\n",
    "        for ti, id in enumerate(log.switch_task_id):\n",
    "            times_seen.append(counts[id])\n",
    "            ttcs.append(tstamps[ti+1]- tstamps[ti])\n",
    "            counts[id] +=1\n",
    "        rehearsal_data.append(np.array(ttcs)[np.array(times_seen)==rehearsal_no])\n",
    "    return(np.stack(rehearsal_data))\n",
    "# rd = get_ttc_rehearsals(logs, 1)\n",
    "\n",
    "rehearsal_no = 2\n",
    "\n",
    "exp_name= 'order_order_order'\n",
    "lfiles = log_files1\n",
    "logs = []\n",
    "for fi, fn in enumerate(lfiles):\n",
    "    logs.append(np.load(f'./../files/{exp_name}/' + fn, allow_pickle=True).item())\n",
    "\n",
    "ttc_reh_1st = get_ttc_rehearsals(logs, rehearsal_no)\n",
    "\n",
    "lfiles = log_files2\n",
    "logs = []\n",
    "for fi, fn in enumerate(lfiles):\n",
    "    logs.append(np.load(f'./../files/{exp_name}/' + fn, allow_pickle=True).item())\n",
    "\n",
    "ttc_reh_2nd = get_ttc_rehearsals(logs, rehearsal_no)\n",
    "\n",
    "exp_name= 'order_order_order_nogates'\n",
    "lfiles = log_files3\n",
    "logs = []\n",
    "for fi, fn in enumerate(lfiles):\n",
    "    logs.append(np.load(f'./../files/{exp_name}/' + fn, allow_pickle=True).item())\n",
    "exp_name= 'order_order_order'\n",
    "\n",
    "ttc_reh_nogates = get_ttc_rehearsals(logs, rehearsal_no)\n",
    "\n",
    "\n",
    "fig, axes = plt.subplots(1,2, figsize=([8,3]))\n",
    "color1= 'tab:blue'\n",
    "color2= 'tab:orange'\n",
    "color3= 'tab:green'\n",
    "m1 = ttc_reh_1st.mean(0)\n",
    "s1 = ttc_reh_1st.std(0)\n",
    "m2 = ttc_reh_2nd.mean(0)\n",
    "s2 = ttc_reh_2nd.std(0)\n",
    "m3 = ttc_reh_nogates.mean(0)\n",
    "s3 = ttc_reh_nogates.std(0)\n",
    "ax =axes[0]\n",
    "ax.plot(m1, label= 'random gates', color= color1)\n",
    "# ax.fill_between(range(len(m1)), m1-s1, m1+s1, alpha=0.3, color= color1)\n",
    "ax.plot(m2, label='Corr specified gates', color= color2)\n",
    "# ax.fill_between(range(len(m2)), m2-s2, m2+s2, alpha=0.3, color= color2)\n",
    "ax.plot(m3, label='No gates', color= color3)\n",
    "ax.set_title(f'Rehearsal No {rehearsal_no}')\n",
    "ax.legend()\n",
    "ax.set_xlabel('Task learning order')\n",
    "ax.set_ylabel('Trials to criterion')\n",
    "\n",
    "ax =axes[1]\n",
    "\n",
    "ax.bar(range(5), [m1.mean(),0., m2.mean(), 0.,m3.mean()], color= [ color1, 'b', color2, 'b', color3])\n",
    "# ax.errorbar(range(5),[m1.mean(),0., m2.mean(), 0.,m3.mean()], [m1.std(),0., m2.std(), 0.,m3.std()])\n",
    "_=ax.set_xticklabels( ['', 'rnd gates','', 'Corr gates', '','No gates'], rotation=0 )\n",
    "ax.set_ylabel('trials to crit')\n",
    "\n",
    "plt.savefig(f'trials_to_crit_{rehearsal_no}th_rehearsal_tasks_corr_gates.jpg',dpi=300)"
   ]
  },
  {
   "cell_type": "code",
   "execution_count": 70,
   "metadata": {},
   "outputs": [
    {
     "name": "stderr",
     "output_type": "stream",
     "text": [
      "No handles with labels found to put in legend.\n"
     ]
    },
    {
     "data": {
      "text/plain": [
       "Text(0, 0.5, 'Trials to criterion')"
      ]
     },
     "execution_count": 70,
     "metadata": {},
     "output_type": "execute_result"
    },
    {
     "data": {
      "image/png": "[encoded data removed]",
      "text/plain": [
       "<Figure size 216x144 with 1 Axes>"
      ]
     },
     "metadata": {
      "needs_background": "light"
     },
     "output_type": "display_data"
    }
   ],
   "source": [
    "exp_name= 'order_order_order'\n",
    "lfiles = log_files1\n",
    "logs = []\n",
    "for fi, fn in enumerate(lfiles):\n",
    "    logs.append(np.load(f'./../files/{exp_name}/' + fn, allow_pickle=True).item())\n",
    "\n",
    "random_gates_totals = [log.total_batches for log in logs]\n",
    "random_gates_totals_m = np.mean(random_gates_totals)\n",
    "\n",
    "lfiles = log_files2\n",
    "logs = []\n",
    "for fi, fn in enumerate(lfiles):\n",
    "    logs.append(np.load(f'./../files/{exp_name}/' + fn, allow_pickle=True).item())\n",
    "\n",
    "corr_gates_totals = [log.total_batches for log in logs]\n",
    "\n",
    "fig, ax = plt.subplots(1,1, figsize=([3,2]))\n",
    "\n",
    "color1= 'tab:blue'\n",
    "color2= 'tab:orange'\n",
    "# ax.boxplot(['rnd gates', 'corr_gates'], [np.mean(r) for r in [random_gates_totals, corr_gates_totals]], color= [color1, color2])\n",
    "# ax.errorbar(range(5),[m1.mean(),0., m2.mean(), 0.,m3.mean()], [m1.std(),0., m2.std(), 0.,m3.std()])\n",
    "ax.boxplot([random_gates_totals, corr_gates_totals], labels=['rnd gates', 'corr_gates'])\n",
    "ax.legend()\n",
    "ax.set_xlabel('Task learning order')\n",
    "ax.set_ylabel('Trials to criterion')\n"
   ]
  },
  {
   "cell_type": "code",
   "execution_count": 64,
   "metadata": {},
   "outputs": [
    {
     "data": {
      "text/plain": [
       "[4791,\n",
       " 4221,\n",
       " 4627,\n",
       " 3703,\n",
       " 4689,\n",
       " 4144,\n",
       " 4940,\n",
       " 12619,\n",
       " 3900,\n",
       " 3367,\n",
       " 4344,\n",
       " 3735,\n",
       " 5851,\n",
       " 4752,\n",
       " 3628,\n",
       " 5512,\n",
       " 3971]"
      ]
     },
     "execution_count": 64,
     "metadata": {},
     "output_type": "execute_result"
    }
   ],
   "source": []
  },
  {
   "cell_type": "code",
   "execution_count": 31,
   "metadata": {},
   "outputs": [],
   "source": [
    "# Compile ALL rehearsals\n",
    "\n",
    "def get_rehearsal_stamps(log_files, exp_name, rehearsal_no=None):\n",
    "    ''' if rehearsal_no is None do not filter and return all rehearsals'''\n",
    "    rehearsal_data=[]\n",
    "    data = []\n",
    "    logs = []\n",
    "    for fn in log_files:\n",
    "        logs.append(np.load(fn, allow_pickle=True).item())\n",
    "    for log in logs:\n",
    "        tstamps = log.switch_trialxxbatch + [log.total_batches]\n",
    "\n",
    "        counts = np.zeros(15)\n",
    "        times_seen =[]\n",
    "        ttcs = []\n",
    "        for ti, id in enumerate(log.switch_task_id):\n",
    "            times_seen.append(counts[id])\n",
    "            ttcs.append(tstamps[ti+1]- tstamps[ti])\n",
    "            counts[id] +=1\n",
    "        rehearsal_data.append(np.array(ttcs)[np.array(times_seen)==rehearsal_no])\n",
    "        stamp_tid_no_rehearsals = np.array([log.switch_trialxxbatch,log.switch_task_id , ttcs, times_seen])\n",
    "        data.append(stamp_tid_no_rehearsals)\n",
    "    return(np.stack(data))\n",
    "\n",
    "exp_name= 'order_order_order'\n",
    "lfiles = log_files1.copy()\n",
    "for fi, fn in enumerate(lfiles):\n",
    "    lfiles[fi] = f'./../files/{exp_name}/' + fn \n",
    "stamp_tid_no_rehearsals = get_rehearsal_stamps(lfiles, 'order_order_order', None)\n",
    "\n",
    "    \n"
   ]
  },
  {
   "cell_type": "code",
   "execution_count": 35,
   "metadata": {},
   "outputs": [
    {
     "name": "stdout",
     "output_type": "stream",
     "text": [
      "shape:  (17, 4, 134)\n"
     ]
    }
   ],
   "source": [
    "print('shape: ', stamp_tid_no_rehearsals.shape) #(17, 4, 134)\n"
   ]
  },
  {
   "cell_type": "code",
   "execution_count": 36,
   "metadata": {},
   "outputs": [],
   "source": [
    "exp_name= 'order_order_order'\n",
    "lfiles = log_files1\n",
    "logs = []\n",
    "for fi, fn in enumerate(lfiles):\n",
    "    logs.append(np.load(f'./../files/{exp_name}/' + fn, allow_pickle=True).item())\n"
   ]
  },
  {
   "cell_type": "code",
   "execution_count": 49,
   "metadata": {},
   "outputs": [
    {
     "name": "stdout",
     "output_type": "stream",
     "text": [
      "no of time stamps:  497\n"
     ]
    },
    {
     "data": {
      "text/plain": [
       "array([   0.,  172.,  338.,  366.,  470.,  507.,  529.,  547.,  559.,\n",
       "        784.,  834.,  889.,  912., 1059., 1191., 1211., 1240., 1252.,\n",
       "       1278., 1352., 1568., 1597., 1643., 1657., 1751., 1790., 1849.,\n",
       "       1917., 1934., 1960., 1972., 1985., 2006., 2037., 2062., 2222.,\n",
       "       2256., 2298., 2312., 2345., 2378., 2397., 2428., 2464., 2482.,\n",
       "       2501., 2518., 2529., 2543., 2561., 2574., 2605., 2618., 2630.,\n",
       "       2744., 2763., 2785., 2797., 2809., 2827., 2841., 2862., 2875.,\n",
       "       2886., 2922., 3089., 3137., 3195., 3207., 3266., 3290., 3314.,\n",
       "       3344., 3442., 3454., 3491., 3519., 3725., 3742., 3756., 3768.,\n",
       "       3782., 3800., 3823., 3844., 3875., 3887., 3928., 3942., 4018.,\n",
       "       4044., 4065., 4079., 4091., 4104., 4118., 4140., 4156., 4177.,\n",
       "       4189., 4211., 4224., 4269., 4285., 4308., 4327., 4350., 4362.,\n",
       "       4376., 4389., 4402., 4417., 4429., 4441., 4468., 4480., 4510.,\n",
       "       4522., 4533., 4579., 4596., 4608., 4619., 4637., 4649., 4667.,\n",
       "       4678., 4691., 4709., 4721., 4735., 4747., 4758., 4780.])"
      ]
     },
     "execution_count": 49,
     "metadata": {},
     "output_type": "execute_result"
    }
   ],
   "source": [
    "log_id = 0\n",
    "print('no of time stamps: ', len(logs[log_id].stamps))\n",
    "stamp_tid_no_rehearsals[log_id][0]\n"
   ]
  },
  {
   "cell_type": "code",
   "execution_count": 57,
   "metadata": {},
   "outputs": [
    {
     "name": "stdout",
     "output_type": "stream",
     "text": [
      "time stamps of new tasks: \n",
      " [   0.  172.  470.  559. 1059. 1352. 1849. 2062. 2464. 2630. 2922. 3519.\n",
      " 4018. 4285. 4533.]\n",
      "No of trials for new tasks: \n",
      " [172. 166.  37. 225. 132. 216.  68. 160.  18. 114. 167. 206.  26.  23.\n",
      "  46.]\n",
      "time stamps in testing log:  [9, 19, 29, 39, 49, 59, 69, 79, 89, 99, 109, 119, 129, 139, 149, 159, 169, 179, 189, 199, 209, 219, 229, 239, 249, 259, 269, 279, 289, 299, 309, 319, 329, 339, 349, 359, 369, 379, 389, 399, 409, 419, 429, 439, 449, 459, 469, 479, 489, 499, 509, 519, 529, 529, 539, 549, 559, 559, 569, 579, 589, 599, 609, 619, 629, 639, 649, 659, 669, 679, 689, 699, 709, 719, 729, 739, 749, 759, 769, 779, 789, 799, 809, 819, 829, 839, 849, 859, 869, 879, 889, 889, 899, 909, 919, 929, 939, 949, 959, 969, 979, 989, 999, 1009, 1019, 1029, 1039, 1049, 1059, 1059, 1069, 1079, 1089, 1099, 1109, 1119, 1129, 1139, 1149, 1159, 1169, 1179, 1189, 1199, 1209, 1219, 1229, 1239, 1249, 1259, 1269, 1279, 1289, 1299, 1309, 1319, 1329, 1339, 1349, 1359, 1369, 1379, 1389, 1399, 1409, 1419, 1429, 1439, 1449, 1459, 1469, 1479, 1489, 1499, 1509, 1519, 1529, 1539, 1549, 1559, 1569, 1579, 1589, 1599, 1609, 1619, 1629, 1639, 1649, 1659, 1669, 1679, 1689, 1699, 1709, 1719, 1729, 1739, 1749, 1759, 1769, 1779, 1789, 1799, 1809, 1819, 1829, 1839, 1849, 1849, 1859, 1869, 1879, 1889, 1899, 1909, 1919, 1929, 1939, 1949, 1959, 1969, 1979, 1989, 1999, 2009, 2019, 2029, 2039, 2049, 2059, 2069, 2079, 2089, 2099, 2109, 2119, 2129, 2139, 2149, 2159, 2169, 2179, 2189, 2199, 2209, 2219, 2229, 2239, 2249, 2259, 2269, 2279, 2289, 2299, 2309, 2319, 2329, 2339, 2349, 2359, 2369, 2379, 2389, 2399, 2409, 2419, 2429, 2439, 2449, 2459, 2469, 2479, 2489, 2499, 2509, 2519, 2529, 2529, 2539, 2549, 2559, 2569, 2579, 2589, 2599, 2609, 2619, 2629, 2639, 2649, 2659, 2669, 2679, 2689, 2699, 2709, 2719, 2729, 2739, 2749, 2759, 2769, 2779, 2789, 2799, 2809, 2809, 2819, 2829, 2839, 2849, 2859, 2869, 2879, 2889, 2899, 2909, 2919, 2929, 2939, 2949, 2959, 2969, 2979, 2989, 2999, 3009, 3019, 3029, 3039, 3049, 3059, 3069, 3079, 3089, 3089, 3099, 3109, 3119, 3129, 3139, 3149, 3159, 3169, 3179, 3189, 3199, 3209, 3219, 3229, 3239, 3249, 3259, 3269, 3279, 3289, 3299, 3309, 3319, 3329, 3339, 3349, 3359, 3369, 3379, 3389, 3399, 3409, 3419, 3429, 3439, 3449, 3459, 3469, 3479, 3489, 3499, 3509, 3519, 3519, 3529, 3539, 3549, 3559, 3569, 3579, 3589, 3599, 3609, 3619, 3629, 3639, 3649, 3659, 3669, 3679, 3689, 3699, 3709, 3719, 3729, 3739, 3749, 3759, 3769, 3779, 3789, 3799, 3809, 3819, 3829, 3839, 3849, 3859, 3869, 3879, 3889, 3899, 3909, 3919, 3929, 3939, 3949, 3959, 3969, 3979, 3989, 3999, 4009, 4019, 4029, 4039, 4049, 4059, 4069, 4079, 4079, 4089, 4099, 4109, 4119, 4129, 4139, 4149, 4159, 4169, 4179, 4189, 4189, 4199, 4209, 4219, 4229, 4239, 4249, 4259, 4269, 4269, 4279, 4289, 4299, 4309, 4319, 4329, 4339, 4349, 4359, 4369, 4379, 4389, 4389, 4399, 4409, 4419, 4429, 4429, 4439, 4449, 4459, 4469, 4479, 4489, 4499, 4509, 4519, 4529, 4539, 4549, 4559, 4569, 4579, 4579, 4589, 4599, 4609, 4619, 4619, 4629, 4639, 4649, 4649, 4659, 4669, 4679, 4689, 4699, 4709, 4709, 4719, 4729, 4739, 4749, 4759, 4769, 4779, 4789]\n"
     ]
    }
   ],
   "source": [
    "#Get time stamps of new trials:\n",
    "print('time stamps of new tasks: \\n', stamp_tid_no_rehearsals[log_id][0][stamp_tid_no_rehearsals[log_id][3]==0])\n",
    "print('No of trials for new tasks: \\n', stamp_tid_no_rehearsals[log_id][2][stamp_tid_no_rehearsals[log_id][3]==0])\n",
    "print('time stamps in testing log: ', logs[log_id].stamps)"
   ]
  },
  {
   "cell_type": "markdown",
   "metadata": {},
   "source": [
    "Now the issue is how to get performance data for these when testing is at 0.1 Hz?.... "
   ]
  },
  {
   "cell_type": "code",
   "execution_count": 61,
   "metadata": {},
   "outputs": [
    {
     "data": {
      "text/plain": [
       "17"
      ]
     },
     "execution_count": 61,
     "metadata": {},
     "output_type": "execute_result"
    }
   ],
   "source": [
    "new_task_s = 172\n",
    "new_task_s_test_u = np.argmax((np.array(logs[log_id].stamps) > new_task_s).astype(float)) # gives the index location of the next higher time stamp. \n",
    "new_task_s_test_l = new_task_s_test_u -1\n",
    "new_task_e = new_task_s + "
   ]
  },
  {
   "cell_type": "code",
   "execution_count": null,
   "metadata": {},
   "outputs": [],
   "source": []
  },
  {
   "cell_type": "code",
   "execution_count": 8,
   "metadata": {},
   "outputs": [
    {
     "data": {
      "text/plain": [
       "Text(0.5, 1.0, '5th rehearsal')"
      ]
     },
     "execution_count": 8,
     "metadata": {},
     "output_type": "execute_result"
    },
    {
     "name": "stderr",
     "output_type": "stream",
     "text": [
      "findfont: Font family ['arial'] not found. Falling back to DejaVu Sans.\n"
     ]
    },
    {
     "data": {
      "image/png": "[encoded data removed]",
      "text/plain": [
       "<Figure size 288x216 with 1 Axes>"
      ]
     },
     "metadata": {
      "needs_background": "light"
     },
     "output_type": "display_data"
    }
   ],
   "source": [
    "\n",
    "exp_name= 'order_order_order'\n",
    "lfiles = log_files1\n",
    "logs = []\n",
    "for fi, fn in enumerate(lfiles):\n",
    "    logs.append(np.load(f'./../files/{exp_name}/' + fn, allow_pickle=True).item())\n",
    "\n",
    "rehearsal_no = 5\n",
    "ttc_reh_1st = get_ttc_rehearsals(logs, rehearsal_no)\n",
    "\n",
    "lfiles = log_files2\n",
    "logs = []\n",
    "for fi, fn in enumerate(lfiles):\n",
    "    logs.append(np.load(f'./../files/{exp_name}/' + fn, allow_pickle=True).item())\n",
    "\n",
    "ttc_reh_2nd = get_ttc_rehearsals(logs, rehearsal_no)\n",
    "\n",
    "fig, ax = plt.subplots(1,1, figsize=([4,3]))\n",
    "\n",
    "color1= 'tab:blue'\n",
    "color2= 'tab:orange'\n",
    "m1 = ttc_reh_1st.mean(0)\n",
    "s1 = ttc_reh_1st.std(0)\n",
    "m2 = ttc_reh_2nd.mean(0)\n",
    "s2 = ttc_reh_2nd.std(0)\n",
    "# ax.plot(m1, label= 'random gates', color= color1)\n",
    "# ax.fill_between(range(len(m1)), m1-s1, m1+s1, alpha=0.3, color= color1)\n",
    "ax.plot(m2, label='Corr specified gates', color= color2)\n",
    "# ax.fill_between(range(len(m2)), m2-s2, m2+s2, alpha=0.3, color= color2)\n",
    "ax.legend()\n",
    "ax.set_xlabel('Task learning order')\n",
    "ax.set_ylabel('Trials to criterion rehearsal')\n",
    "ax.set_title(f'{rehearsal_no}th rehearsal')\n",
    "\n",
    "\n",
    "# plt.savefig(f'trials_to_crit_{rehearsal_no}th_rehearsal_tasks_corr_gates',dpi=300)"
   ]
  },
  {
   "cell_type": "code",
   "execution_count": 99,
   "metadata": {},
   "outputs": [
    {
     "data": {
      "text/plain": [
       "[<matplotlib.lines.Line2D at 0x2aea5d5ba940>]"
      ]
     },
     "execution_count": 99,
     "metadata": {},
     "output_type": "execute_result"
    },
    {
     "data": {
      "image/png": "[encoded data removed]",
      "text/plain": [
       "<Figure size 432x288 with 1 Axes>"
      ]
     },
     "metadata": {
      "needs_background": "light"
     },
     "output_type": "display_data"
    }
   ],
   "source": [
    "\n",
    "def get_ttc_rehearsals(logs, rehearsal_no):\n",
    "    rehearsal_data=[]\n",
    "    for log in logs:\n",
    "        tstamps = log.switch_trialxxbatch + [log.total_batches]\n",
    "\n",
    "        counts = np.zeros(15)\n",
    "        times_seen =[]\n",
    "        ttcs = []\n",
    "        for ti, id in enumerate(log.switch_task_id):\n",
    "            times_seen.append(counts[id])\n",
    "            ttcs.append(tstamps[ti+1]- tstamps[ti])\n",
    "            counts[id] +=1\n",
    "        rehearsal_data.append(np.array(ttcs)[np.array(times_seen)==rehearsal_no])\n",
    "    return(np.stack(rehearsal_data))\n",
    "rd = get_ttc_rehearsals(logs, 1)\n",
    "plt.plot( rd.mean(0))"
   ]
  },
  {
   "cell_type": "markdown",
   "metadata": {},
   "source": [
    "\n",
    "Ok, now how much do you have to rehearse as a measures of continual learning. \n",
    "Gather rehearsals 0 through 15 with task ids and ttc\n",
    "\n",
    "So I have 15 rehearsals!\n",
    "Each has an increasing num of tasks. \n",
    "for task id, get all the learning trials\n",
    "take the first one for analsi, butalso need to know the order....\n",
    "Some compiling by order, \n",
    "and some compiling by task. \n"
   ]
  },
  {
   "cell_type": "code",
   "execution_count": null,
   "metadata": {},
   "outputs": [],
   "source": []
  },
  {
   "cell_type": "code",
   "execution_count": null,
   "metadata": {},
   "outputs": [],
   "source": []
  },
  {
   "cell_type": "code",
   "execution_count": null,
   "metadata": {},
   "outputs": [],
   "source": []
  },
  {
   "cell_type": "code",
   "execution_count": null,
   "metadata": {},
   "outputs": [],
   "source": []
  },
  {
   "cell_type": "code",
   "execution_count": null,
   "metadata": {},
   "outputs": [],
   "source": []
  },
  {
   "cell_type": "code",
   "execution_count": null,
   "metadata": {},
   "outputs": [],
   "source": []
  },
  {
   "cell_type": "code",
   "execution_count": null,
   "metadata": {},
   "outputs": [],
   "source": []
  },
  {
   "cell_type": "code",
   "execution_count": null,
   "metadata": {},
   "outputs": [],
   "source": []
  },
  {
   "cell_type": "code",
   "execution_count": null,
   "id": "947cf7dd",
   "metadata": {},
   "outputs": [],
   "source": []
  },
  {
   "cell_type": "code",
   "execution_count": null,
   "id": "8fd24e41",
   "metadata": {},
   "outputs": [],
   "source": []
  },
  {
   "cell_type": "code",
   "execution_count": null,
   "id": "feebd444",
   "metadata": {},
   "outputs": [],
   "source": []
  }
 ],
 "metadata": {
  "interpreter": {
   "hash": "a614b6822d675a3f6a0a3577ebf5b4959c824debbecc60b4403748357850657b"
  },
  "kernelspec": {
   "display_name": "Python 3.8.11 64-bit ('base': conda)",
   "name": "python3"
  },
  "language_info": {
   "codemirror_mode": {
    "name": "ipython",
    "version": 3
   },
   "file_extension": ".py",
   "mimetype": "text/x-python",
   "name": "python",
   "nbconvert_exporter": "python",
   "pygments_lexer": "ipython3",
   "version": "3.8.11"
  }
 },
 "nbformat": 4,
 "nbformat_minor": 5
}
