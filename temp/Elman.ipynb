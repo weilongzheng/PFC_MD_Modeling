{
 "metadata": {
  "language_info": {
   "codemirror_mode": {
    "name": "ipython",
    "version": 3
   },
   "file_extension": ".py",
   "mimetype": "text/x-python",
   "name": "python",
   "nbconvert_exporter": "python",
   "pygments_lexer": "ipython3",
   "version": "3.7.9-final"
  },
  "orig_nbformat": 2,
  "kernelspec": {
   "name": "python3",
   "display_name": "Python 3",
   "language": "python"
  }
 },
 "nbformat": 4,
 "nbformat_minor": 2,
 "cells": [
  {
   "source": [
    "# Feed RihkyeTask dataset into an Elman RNN model"
   ],
   "cell_type": "markdown",
   "metadata": {}
  },
  {
   "cell_type": "code",
   "execution_count": 1,
   "metadata": {},
   "outputs": [],
   "source": [
    "import numpy as np\n",
    "import matplotlib.pyplot as plt\n",
    "import sys, shelve\n",
    "\n",
    "import torch\n",
    "import torch.nn as nn\n",
    "\n",
    "from task import RihkyeTask"
   ]
  },
  {
   "cell_type": "code",
   "execution_count": 4,
   "metadata": {},
   "outputs": [
    {
     "output_type": "stream",
     "name": "stdout",
     "text": [
      "(400, 10, 4) (400, 10, 2) \n\n[[1. 0. 0. 0.]\n [1. 0. 0. 0.]\n [1. 0. 0. 0.]\n [1. 0. 0. 0.]\n [1. 0. 0. 0.]\n [1. 0. 0. 0.]\n [1. 0. 0. 0.]\n [1. 0. 0. 0.]\n [1. 0. 0. 0.]\n [1. 0. 0. 0.]]\n[[1. 0.]\n [1. 0.]\n [1. 0.]\n [1. 0.]\n [1. 0.]\n [1. 0.]\n [1. 0.]\n [1. 0.]\n [1. 0.]\n [1. 0.]]\n"
     ]
    }
   ],
   "source": [
    "RNGSEED = 5\n",
    "np.random.seed([RNGSEED])\n",
    "\n",
    "num_cueingcontext = 2\n",
    "num_cue = 2\n",
    "num_rule = 2\n",
    "rule = [0, 1, 0, 1]\n",
    "blocklen = [500, 500, 200]\n",
    "block_cueingcontext = [0, 1, 0]\n",
    "tsteps = 200\n",
    "cuesteps = 100\n",
    "batch_size = 10\n",
    "\n",
    "dataset = RihkyeTask(num_cueingcontext=num_cueingcontext, num_cue=num_cue, num_rule=num_rule, rule=rule, blocklen=blocklen, \\\n",
    "block_cueingcontext=block_cueingcontext, tsteps=tsteps, cuesteps=cuesteps, batch_size=batch_size)\n",
    "\n",
    "input, target = dataset()\n",
    "print(input.shape, target.shape, '\\n')\n",
    "print(input[210:220, 9, :])\n",
    "print(target[210:220, 9, :])"
   ]
  },
  {
   "cell_type": "code",
   "execution_count": 50,
   "metadata": {},
   "outputs": [
    {
     "output_type": "stream",
     "name": "stdout",
     "text": [
      "[[0 0]\n [0 1]]\n"
     ]
    }
   ],
   "source": [
    "a = np.array([[0, 1], [0, 0]])\n",
    "a = np.random.permutation(a)\n",
    "print(a)"
   ]
  },
  {
   "source": [
    "- cue, target = dataset.get_cue_target(taski=0, cuei=0) cue should be \\[1, -1, 0, 0\\]?\n",
    "- do use one-hot coding in targets\n",
    "- in a training step, we select one cueing context (e.g. noise context), then we give two trials, high-pass noise and low-pass noise, in a random sequence. 500 training steps like this consist of a training block. In the next training block, we will select another cueing context.\n",
    "- batch size?"
   ],
   "cell_type": "markdown",
   "metadata": {}
  },
  {
   "cell_type": "code",
   "execution_count": null,
   "metadata": {},
   "outputs": [],
   "source": []
  }
 ]
}